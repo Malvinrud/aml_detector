{
 "cells": [
  {
   "cell_type": "code",
   "execution_count": 2,
   "metadata": {},
   "outputs": [],
   "source": [
    "import pandas as pd\n",
    "import numpy as np\n",
    "import csv"
   ]
  },
  {
   "cell_type": "code",
   "execution_count": 3,
   "metadata": {},
   "outputs": [],
   "source": [
    "file = 'raw_data/HI-Small_Trans.csv'\n",
    "transactions_df = pd.read_csv(file, decimal=',')"
   ]
  },
  {
   "cell_type": "code",
   "execution_count": 4,
   "metadata": {},
   "outputs": [
    {
     "data": {
      "text/html": [
       "<div>\n",
       "<style scoped>\n",
       "    .dataframe tbody tr th:only-of-type {\n",
       "        vertical-align: middle;\n",
       "    }\n",
       "\n",
       "    .dataframe tbody tr th {\n",
       "        vertical-align: top;\n",
       "    }\n",
       "\n",
       "    .dataframe thead th {\n",
       "        text-align: right;\n",
       "    }\n",
       "</style>\n",
       "<table border=\"1\" class=\"dataframe\">\n",
       "  <thead>\n",
       "    <tr style=\"text-align: right;\">\n",
       "      <th></th>\n",
       "      <th>Timestamp</th>\n",
       "      <th>From Bank</th>\n",
       "      <th>Account</th>\n",
       "      <th>To Bank</th>\n",
       "      <th>Account.1</th>\n",
       "      <th>Amount Received</th>\n",
       "      <th>Receiving Currency</th>\n",
       "      <th>Amount Paid</th>\n",
       "      <th>Payment Currency</th>\n",
       "      <th>Payment Format</th>\n",
       "      <th>Is Laundering</th>\n",
       "    </tr>\n",
       "  </thead>\n",
       "  <tbody>\n",
       "    <tr>\n",
       "      <th>0</th>\n",
       "      <td>2022/09/01 00:20</td>\n",
       "      <td>10</td>\n",
       "      <td>8000EBD30</td>\n",
       "      <td>10</td>\n",
       "      <td>8000EBD30</td>\n",
       "      <td>3697.34</td>\n",
       "      <td>US Dollar</td>\n",
       "      <td>3697.34</td>\n",
       "      <td>US Dollar</td>\n",
       "      <td>Reinvestment</td>\n",
       "      <td>0</td>\n",
       "    </tr>\n",
       "    <tr>\n",
       "      <th>1</th>\n",
       "      <td>2022/09/01 00:20</td>\n",
       "      <td>3208</td>\n",
       "      <td>8000F4580</td>\n",
       "      <td>1</td>\n",
       "      <td>8000F5340</td>\n",
       "      <td>0.01</td>\n",
       "      <td>US Dollar</td>\n",
       "      <td>0.01</td>\n",
       "      <td>US Dollar</td>\n",
       "      <td>Cheque</td>\n",
       "      <td>0</td>\n",
       "    </tr>\n",
       "    <tr>\n",
       "      <th>2</th>\n",
       "      <td>2022/09/01 00:00</td>\n",
       "      <td>3209</td>\n",
       "      <td>8000F4670</td>\n",
       "      <td>3209</td>\n",
       "      <td>8000F4670</td>\n",
       "      <td>14675.57</td>\n",
       "      <td>US Dollar</td>\n",
       "      <td>14675.57</td>\n",
       "      <td>US Dollar</td>\n",
       "      <td>Reinvestment</td>\n",
       "      <td>0</td>\n",
       "    </tr>\n",
       "    <tr>\n",
       "      <th>3</th>\n",
       "      <td>2022/09/01 00:02</td>\n",
       "      <td>12</td>\n",
       "      <td>8000F5030</td>\n",
       "      <td>12</td>\n",
       "      <td>8000F5030</td>\n",
       "      <td>2806.97</td>\n",
       "      <td>US Dollar</td>\n",
       "      <td>2806.97</td>\n",
       "      <td>US Dollar</td>\n",
       "      <td>Reinvestment</td>\n",
       "      <td>0</td>\n",
       "    </tr>\n",
       "    <tr>\n",
       "      <th>4</th>\n",
       "      <td>2022/09/01 00:06</td>\n",
       "      <td>10</td>\n",
       "      <td>8000F5200</td>\n",
       "      <td>10</td>\n",
       "      <td>8000F5200</td>\n",
       "      <td>36682.97</td>\n",
       "      <td>US Dollar</td>\n",
       "      <td>36682.97</td>\n",
       "      <td>US Dollar</td>\n",
       "      <td>Reinvestment</td>\n",
       "      <td>0</td>\n",
       "    </tr>\n",
       "    <tr>\n",
       "      <th>...</th>\n",
       "      <td>...</td>\n",
       "      <td>...</td>\n",
       "      <td>...</td>\n",
       "      <td>...</td>\n",
       "      <td>...</td>\n",
       "      <td>...</td>\n",
       "      <td>...</td>\n",
       "      <td>...</td>\n",
       "      <td>...</td>\n",
       "      <td>...</td>\n",
       "      <td>...</td>\n",
       "    </tr>\n",
       "    <tr>\n",
       "      <th>5078340</th>\n",
       "      <td>2022/09/10 23:57</td>\n",
       "      <td>54219</td>\n",
       "      <td>8148A6631</td>\n",
       "      <td>256398</td>\n",
       "      <td>8148A8711</td>\n",
       "      <td>0.154978</td>\n",
       "      <td>Bitcoin</td>\n",
       "      <td>0.154978</td>\n",
       "      <td>Bitcoin</td>\n",
       "      <td>Bitcoin</td>\n",
       "      <td>0</td>\n",
       "    </tr>\n",
       "    <tr>\n",
       "      <th>5078341</th>\n",
       "      <td>2022/09/10 23:35</td>\n",
       "      <td>15</td>\n",
       "      <td>8148A8671</td>\n",
       "      <td>256398</td>\n",
       "      <td>8148A8711</td>\n",
       "      <td>0.108128</td>\n",
       "      <td>Bitcoin</td>\n",
       "      <td>0.108128</td>\n",
       "      <td>Bitcoin</td>\n",
       "      <td>Bitcoin</td>\n",
       "      <td>0</td>\n",
       "    </tr>\n",
       "    <tr>\n",
       "      <th>5078342</th>\n",
       "      <td>2022/09/10 23:52</td>\n",
       "      <td>154365</td>\n",
       "      <td>8148A6771</td>\n",
       "      <td>256398</td>\n",
       "      <td>8148A8711</td>\n",
       "      <td>0.004988</td>\n",
       "      <td>Bitcoin</td>\n",
       "      <td>0.004988</td>\n",
       "      <td>Bitcoin</td>\n",
       "      <td>Bitcoin</td>\n",
       "      <td>0</td>\n",
       "    </tr>\n",
       "    <tr>\n",
       "      <th>5078343</th>\n",
       "      <td>2022/09/10 23:46</td>\n",
       "      <td>256398</td>\n",
       "      <td>8148A6311</td>\n",
       "      <td>256398</td>\n",
       "      <td>8148A8711</td>\n",
       "      <td>0.038417</td>\n",
       "      <td>Bitcoin</td>\n",
       "      <td>0.038417</td>\n",
       "      <td>Bitcoin</td>\n",
       "      <td>Bitcoin</td>\n",
       "      <td>0</td>\n",
       "    </tr>\n",
       "    <tr>\n",
       "      <th>5078344</th>\n",
       "      <td>2022/09/10 23:37</td>\n",
       "      <td>154518</td>\n",
       "      <td>8148A6091</td>\n",
       "      <td>256398</td>\n",
       "      <td>8148A8711</td>\n",
       "      <td>0.281983</td>\n",
       "      <td>Bitcoin</td>\n",
       "      <td>0.281983</td>\n",
       "      <td>Bitcoin</td>\n",
       "      <td>Bitcoin</td>\n",
       "      <td>0</td>\n",
       "    </tr>\n",
       "  </tbody>\n",
       "</table>\n",
       "<p>5078345 rows × 11 columns</p>\n",
       "</div>"
      ],
      "text/plain": [
       "                Timestamp  From Bank    Account  To Bank  Account.1   \n",
       "0        2022/09/01 00:20         10  8000EBD30       10  8000EBD30  \\\n",
       "1        2022/09/01 00:20       3208  8000F4580        1  8000F5340   \n",
       "2        2022/09/01 00:00       3209  8000F4670     3209  8000F4670   \n",
       "3        2022/09/01 00:02         12  8000F5030       12  8000F5030   \n",
       "4        2022/09/01 00:06         10  8000F5200       10  8000F5200   \n",
       "...                   ...        ...        ...      ...        ...   \n",
       "5078340  2022/09/10 23:57      54219  8148A6631   256398  8148A8711   \n",
       "5078341  2022/09/10 23:35         15  8148A8671   256398  8148A8711   \n",
       "5078342  2022/09/10 23:52     154365  8148A6771   256398  8148A8711   \n",
       "5078343  2022/09/10 23:46     256398  8148A6311   256398  8148A8711   \n",
       "5078344  2022/09/10 23:37     154518  8148A6091   256398  8148A8711   \n",
       "\n",
       "        Amount Received Receiving Currency Amount Paid Payment Currency   \n",
       "0               3697.34          US Dollar     3697.34        US Dollar  \\\n",
       "1                  0.01          US Dollar        0.01        US Dollar   \n",
       "2              14675.57          US Dollar    14675.57        US Dollar   \n",
       "3               2806.97          US Dollar     2806.97        US Dollar   \n",
       "4              36682.97          US Dollar    36682.97        US Dollar   \n",
       "...                 ...                ...         ...              ...   \n",
       "5078340        0.154978            Bitcoin    0.154978          Bitcoin   \n",
       "5078341        0.108128            Bitcoin    0.108128          Bitcoin   \n",
       "5078342        0.004988            Bitcoin    0.004988          Bitcoin   \n",
       "5078343        0.038417            Bitcoin    0.038417          Bitcoin   \n",
       "5078344        0.281983            Bitcoin    0.281983          Bitcoin   \n",
       "\n",
       "        Payment Format  Is Laundering  \n",
       "0         Reinvestment              0  \n",
       "1               Cheque              0  \n",
       "2         Reinvestment              0  \n",
       "3         Reinvestment              0  \n",
       "4         Reinvestment              0  \n",
       "...                ...            ...  \n",
       "5078340        Bitcoin              0  \n",
       "5078341        Bitcoin              0  \n",
       "5078342        Bitcoin              0  \n",
       "5078343        Bitcoin              0  \n",
       "5078344        Bitcoin              0  \n",
       "\n",
       "[5078345 rows x 11 columns]"
      ]
     },
     "execution_count": 4,
     "metadata": {},
     "output_type": "execute_result"
    }
   ],
   "source": [
    "transactions_df"
   ]
  },
  {
   "cell_type": "code",
   "execution_count": 5,
   "metadata": {},
   "outputs": [
    {
     "data": {
      "text/plain": [
       "array(['Reinvestment', 'Cheque', 'Credit Card', 'ACH', 'Cash', 'Wire',\n",
       "       'Bitcoin'], dtype=object)"
      ]
     },
     "execution_count": 5,
     "metadata": {},
     "output_type": "execute_result"
    }
   ],
   "source": [
    "# What payment formats do we have?\n",
    "pd.unique(transactions_df[\"Payment Format\"])"
   ]
  },
  {
   "cell_type": "code",
   "execution_count": 16,
   "metadata": {},
   "outputs": [
    {
     "name": "stdout",
     "output_type": "stream",
     "text": [
      "496995\n",
      "420636\n"
     ]
    }
   ],
   "source": [
    "# Number of sending and receiving accounts\n",
    "print(len(np.unique(transactions_df[\"Account\"])))\n",
    "print(len(np.unique(transactions_df[\"Account.1\"])))"
   ]
  },
  {
   "cell_type": "code",
   "execution_count": 21,
   "metadata": {},
   "outputs": [
    {
     "data": {
      "text/plain": [
       "array(['US Dollar', 'Bitcoin', 'Euro', 'Australian Dollar', 'Yuan',\n",
       "       'Rupee', 'Mexican Peso', 'Yen', 'UK Pound', 'Ruble',\n",
       "       'Canadian Dollar', 'Swiss Franc', 'Brazil Real', 'Saudi Riyal',\n",
       "       'Shekel'], dtype=object)"
      ]
     },
     "execution_count": 21,
     "metadata": {},
     "output_type": "execute_result"
    }
   ],
   "source": [
    "pd.unique(transactions_df[\"Receiving Currency\"])"
   ]
  },
  {
   "cell_type": "code",
   "execution_count": 22,
   "metadata": {},
   "outputs": [
    {
     "data": {
      "text/plain": [
       "array(['US Dollar', 'Bitcoin', 'Euro', 'Australian Dollar', 'Yuan',\n",
       "       'Rupee', 'Yen', 'Mexican Peso', 'UK Pound', 'Ruble',\n",
       "       'Canadian Dollar', 'Swiss Franc', 'Brazil Real', 'Saudi Riyal',\n",
       "       'Shekel'], dtype=object)"
      ]
     },
     "execution_count": 22,
     "metadata": {},
     "output_type": "execute_result"
    }
   ],
   "source": [
    "pd.unique(transactions_df[\"Payment Currency\"])"
   ]
  },
  {
   "cell_type": "code",
   "execution_count": 23,
   "metadata": {},
   "outputs": [],
   "source": [
    "# We need to re-structure the entire dataset.\n",
    "# The reason for that is, that we want to look at accounts, not transaction.\n",
    "# Our new dataframe will also have to include a time aspect, as well as some kind of information about how the transaction is with."
   ]
  },
  {
   "cell_type": "code",
   "execution_count": null,
   "metadata": {},
   "outputs": [],
   "source": []
  },
  {
   "cell_type": "code",
   "execution_count": 24,
   "metadata": {},
   "outputs": [],
   "source": [
    "# Merge currency pair into one column \n",
    "# get conversion rate to approximate all currencies into one, comparable currency\n",
    "# add column for transaction within same bank true/false\n",
    "# sort data and restructure based on accounts"
   ]
  },
  {
   "cell_type": "code",
   "execution_count": null,
   "metadata": {},
   "outputs": [],
   "source": []
  },
  {
   "cell_type": "code",
   "execution_count": null,
   "metadata": {},
   "outputs": [],
   "source": []
  }
 ],
 "metadata": {
  "kernelspec": {
   "display_name": "aml_detector",
   "language": "python",
   "name": "python3"
  },
  "language_info": {
   "codemirror_mode": {
    "name": "ipython",
    "version": 3
   },
   "file_extension": ".py",
   "mimetype": "text/x-python",
   "name": "python",
   "nbconvert_exporter": "python",
   "pygments_lexer": "ipython3",
   "version": "3.10.6"
  },
  "orig_nbformat": 4
 },
 "nbformat": 4,
 "nbformat_minor": 2
}
