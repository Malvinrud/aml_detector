{
 "cells": [
  {
   "cell_type": "code",
   "execution_count": 1,
   "metadata": {},
   "outputs": [],
   "source": [
    "import pandas as pd\n",
    "import numpy as np\n",
    "import csv"
   ]
  },
  {
   "cell_type": "code",
   "execution_count": 2,
   "metadata": {},
   "outputs": [],
   "source": [
    "file = 'raw_data/HI-Small_Trans.csv'\n",
    "df = pd.read_csv(file, decimal=',')"
   ]
  },
  {
   "cell_type": "code",
   "execution_count": null,
   "metadata": {},
   "outputs": [],
   "source": [
    "df"
   ]
  },
  {
   "cell_type": "code",
   "execution_count": null,
   "metadata": {},
   "outputs": [],
   "source": [
    "df.drop(\"Amount Paid\", axis=1, inplace=True)\n",
    "\n",
    "df = df.rename(columns={\"Timestamp\": \"timestamp\",\n",
    "                   \"From Bank\": \"from_bank\",\n",
    "                   \"Account\": \"from_account\",\n",
    "                   \"Account.1\": \"to_account\",\n",
    "                   \"From Bank\": \"from_bank\",\n",
    "                   \"To Bank\": \"to_bank\",\n",
    "                   \"Amount Received\": \"amount\",\n",
    "                   \"Payment Format\": \"payment_format\",\n",
    "                   \"Is Laundering\": \"is_laundering\"})\n"
   ]
  },
  {
   "cell_type": "code",
   "execution_count": null,
   "metadata": {},
   "outputs": [],
   "source": [
    "# dict for currency conversion\n",
    "\n",
    "currency_dict = {\"US Dollar\": \"USD\",\n",
    "                 \"Bitcoin\": \"XBT\",\n",
    "                 \"Euro\": \"EUR\",\n",
    "                 \"Australiean Dollar\": \"AUD\",\n",
    "                 \"Yuan\": \"CNY\",\n",
    "                 \"Rupee\": \"INR\",\n",
    "                 \"Yen\": \"JPY\",\n",
    "                 \"Mexican Peso\": \"MXN\",\n",
    "                 \"UK Pound\": \"GBP\",\n",
    "                 \"Ruble\": \"RUB\",\n",
    "                 \"Canadian Dollar\": \"CAD\",\n",
    "                 \"Swiss Franc\": \"CHF\",\n",
    "                 \"Brazil Real\": \"BRL\",\n",
    "                 \"Saudi Riyal\": \"SAR\",\n",
    "                 \"Shekel\": \"ILS\"}"
   ]
  },
  {
   "cell_type": "code",
   "execution_count": null,
   "metadata": {},
   "outputs": [],
   "source": [
    "# put currency pair together and delete obsolete columns\n",
    "\n",
    "df[\"Receiving Currency\"] = df[\"Receiving Currency\"].map(currency_dict)\n",
    "df[\"Payment Currency\"] = df[\"Payment Currency\"].map(currency_dict)\n",
    "\n",
    "df[\"currency_pair\"] = df[\"Receiving Currency\"] + \"_\" + df[\"Payment Currency\"]\n",
    "df = df.drop(['Receiving Currency', 'Payment Currency'], axis=1)"
   ]
  },
  {
   "cell_type": "code",
   "execution_count": null,
   "metadata": {},
   "outputs": [],
   "source": [
    "df"
   ]
  },
  {
   "cell_type": "code",
   "execution_count": null,
   "metadata": {},
   "outputs": [],
   "source": [
    "# list all unique accounts\n",
    "\n",
    "from_accounts = df[\"from_account\"].to_numpy()\n",
    "to_accounts  = df[\"to_account\"].to_numpy()\n",
    "\n",
    "all_accounts = np.append(from_accounts, to_accounts)\n",
    "all_accounts = np.unique(all_accounts)"
   ]
  },
  {
   "cell_type": "code",
   "execution_count": null,
   "metadata": {},
   "outputs": [],
   "source": [
    "# sort whole dataframe by time\n",
    "\n",
    "sorted_df = df.sort_values(by='timestamp')\n",
    "\n",
    "sorted_df = sorted_df.drop(\"timestamp\", axis=1)"
   ]
  },
  {
   "cell_type": "code",
   "execution_count": null,
   "metadata": {},
   "outputs": [],
   "source": [
    "# final master df\n",
    "\n",
    "master_df = pd.DataFrame()\n",
    "\n",
    "\n",
    "# loop over df to append to master_df\n",
    "\n",
    "for account in all_accounts:\n",
    "    mask = (sorted_df[\"from_account\"] == account) | (sorted_df[\"to_account\"] == account)\n",
    "    temp_df = df[mask]\n",
    "    "
   ]
  },
  {
   "cell_type": "code",
   "execution_count": null,
   "metadata": {},
   "outputs": [],
   "source": [
    "# drop columns depending on purpose\n",
    "\n",
    "account = all_accounts[0]\n",
    "\n",
    "print(account)\n",
    "\n",
    "mask = (sorted_df[\"from_account\"] == account) | (sorted_df[\"to_account\"] == account)\n",
    "temp_df = sorted_df[mask]\n",
    "\n",
    "temp_df\n"
   ]
  },
  {
   "cell_type": "code",
   "execution_count": null,
   "metadata": {},
   "outputs": [],
   "source": [
    "# Idos idea\n",
    "\n",
    "temp_df.set_index('Account', inplace=True)\n",
    "\n",
    "temp_df"
   ]
  },
  {
   "cell_type": "code",
   "execution_count": null,
   "metadata": {},
   "outputs": [],
   "source": [
    "df_transposed = temp_df.transpose()\n",
    "df_transposed"
   ]
  },
  {
   "cell_type": "code",
   "execution_count": null,
   "metadata": {},
   "outputs": [],
   "source": [
    "df.Account.value_counts().hist(bins=)"
   ]
  },
  {
   "cell_type": "code",
   "execution_count": 3,
   "metadata": {},
   "outputs": [],
   "source": [
    "import requests"
   ]
  },
  {
   "cell_type": "code",
   "execution_count": 18,
   "metadata": {},
   "outputs": [],
   "source": [
    "file = 'raw_data/HI-Small_Trans.csv'\n",
    "df = pd.read_csv(file, decimal=',')"
   ]
  },
  {
   "cell_type": "code",
   "execution_count": 62,
   "metadata": {},
   "outputs": [
    {
     "name": "stdout",
     "output_type": "stream",
     "text": [
      "The autoreload extension is already loaded. To reload it, use:\n",
      "  %reload_ext autoreload\n"
     ]
    }
   ],
   "source": [
    "%load_ext autoreload\n",
    "%autoreload 2\n",
    "import requests\n",
    "from ml_logic.data import clean_data"
   ]
  },
  {
   "cell_type": "code",
   "execution_count": 57,
   "metadata": {},
   "outputs": [],
   "source": [
    "import pandas as pd\n",
    "import numpy as np\n",
    "import csv\n",
    "import requests"
   ]
  },
  {
   "cell_type": "code",
   "execution_count": 58,
   "metadata": {},
   "outputs": [
    {
     "name": "stdout",
     "output_type": "stream",
     "text": [
      "✅ data cleaned\n"
     ]
    }
   ],
   "source": [
    "clean = clean_data(df)"
   ]
  },
  {
   "cell_type": "code",
   "execution_count": 60,
   "metadata": {},
   "outputs": [
    {
     "ename": "ImportError",
     "evalue": "attempted relative import with no known parent package",
     "output_type": "error",
     "traceback": [
      "\u001b[0;31m---------------------------------------------------------------------------\u001b[0m",
      "\u001b[0;31mImportError\u001b[0m                               Traceback (most recent call last)",
      "Cell \u001b[0;32mIn[60], line 1\u001b[0m\n\u001b[0;32m----> 1\u001b[0m \u001b[39mfrom\u001b[39;00m \u001b[39m.\u001b[39;00m \u001b[39mimport\u001b[39;00m clean_data\n",
      "\u001b[0;31mImportError\u001b[0m: attempted relative import with no known parent package"
     ]
    }
   ],
   "source": [
    "from . import clean_data"
   ]
  },
  {
   "cell_type": "code",
   "execution_count": null,
   "metadata": {},
   "outputs": [],
   "source": []
  }
 ],
 "metadata": {
  "kernelspec": {
   "display_name": "aml_detector",
   "language": "python",
   "name": "python3"
  },
  "language_info": {
   "codemirror_mode": {
    "name": "ipython",
    "version": 3
   },
   "file_extension": ".py",
   "mimetype": "text/x-python",
   "name": "python",
   "nbconvert_exporter": "python",
   "pygments_lexer": "ipython3",
   "version": "3.10.6"
  },
  "orig_nbformat": 4
 },
 "nbformat": 4,
 "nbformat_minor": 2
}
