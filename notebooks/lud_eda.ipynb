{
 "cells": [
  {
   "cell_type": "markdown",
   "id": "f3837d73-64f0-46c0-ae26-ad6c3333b7c0",
   "metadata": {},
   "source": [
    "## Preprocessing and cleaning \n",
    "\n",
    "In this notebook I explore the dataset and pre process it in order to generate a new dataset. In short the procedure contains\n",
    "1) The creation of new columns  'Year', 'Month', 'Day', 'Hour', 'Minute', 'Currency Code',\t'Rate',\t'Amount Paid USD',\t'Amount Received USD'\n",
    "2) Standardise amount in different currencies to USD\n",
    " "
   ]
  },
  {
   "cell_type": "code",
   "execution_count": 3,
   "id": "6815b5a0-c315-4ff2-85b1-19ff9426db24",
   "metadata": {},
   "outputs": [],
   "source": [
    "import pandas as pd "
   ]
  },
  {
   "cell_type": "code",
   "execution_count": 4,
   "id": "7d80ad96-fd33-463f-bfa7-ff0c1e48d266",
   "metadata": {
    "editable": true,
    "slideshow": {
     "slide_type": ""
    },
    "tags": []
   },
   "outputs": [],
   "source": [
    " df= pd.read_csv('/Users/Malte/code/Malvinrud/aml_detector/HI-Small_Trans.csv')"
   ]
  },
  {
   "cell_type": "code",
   "execution_count": 5,
   "id": "82c20062-2cc5-4040-9c7b-7030ee240a1b",
   "metadata": {},
   "outputs": [
    {
     "name": "stdout",
     "output_type": "stream",
     "text": [
      "Number of rows:  5078345\n"
     ]
    }
   ],
   "source": [
    "# Get number of rows\n",
    "num_rows = len(df)\n",
    "print(\"Number of rows: \", num_rows)"
   ]
  },
  {
   "cell_type": "code",
   "execution_count": 6,
   "id": "3704f756-6cb7-4af8-90ac-1a2829f704fa",
   "metadata": {},
   "outputs": [
    {
     "data": {
      "text/plain": [
       "Timestamp              object\n",
       "From Bank               int64\n",
       "Account                object\n",
       "To Bank                 int64\n",
       "Account.1              object\n",
       "Amount Received       float64\n",
       "Receiving Currency     object\n",
       "Amount Paid           float64\n",
       "Payment Currency       object\n",
       "Payment Format         object\n",
       "Is Laundering           int64\n",
       "dtype: object"
      ]
     },
     "execution_count": 6,
     "metadata": {},
     "output_type": "execute_result"
    }
   ],
   "source": [
    "# Column names and data type\n",
    "df.dtypes"
   ]
  },
  {
   "cell_type": "code",
   "execution_count": 7,
   "id": "6c674260-dd3c-4ade-bbdd-90e908ce8e37",
   "metadata": {},
   "outputs": [
    {
     "name": "stdout",
     "output_type": "stream",
     "text": [
      "Unique count of Account:  496995\n"
     ]
    }
   ],
   "source": [
    "#How many unique accounts there are\n",
    "unique_count = df['Account'].nunique()\n",
    "print('Unique count of Account: ', unique_count)\n"
   ]
  },
  {
   "cell_type": "code",
   "execution_count": 8,
   "id": "e3df5d45-3c9b-40ff-bd08-c46590a03901",
   "metadata": {
    "scrolled": true
   },
   "outputs": [
    {
     "name": "stdout",
     "output_type": "stream",
     "text": [
      "Is Laundering\n",
      "0    0.998981\n",
      "1    0.001019\n",
      "Name: proportion, dtype: float64\n"
     ]
    }
   ],
   "source": [
    "# Get the distribution of Is Laundering \n",
    "laundering_counts = df['Is Laundering'].value_counts(normalize=True)\n",
    "print(laundering_counts)"
   ]
  },
  {
   "cell_type": "code",
   "execution_count": 9,
   "id": "d2bce668-8815-439c-8869-815e2063c0df",
   "metadata": {},
   "outputs": [
    {
     "name": "stdout",
     "output_type": "stream",
     "text": [
      "['US Dollar' 'Bitcoin' 'Euro' 'Australian Dollar' 'Yuan' 'Rupee' 'Yen'\n",
      " 'Mexican Peso' 'UK Pound' 'Ruble' 'Canadian Dollar' 'Swiss Franc'\n",
      " 'Brazil Real' 'Saudi Riyal' 'Shekel']\n"
     ]
    }
   ],
   "source": [
    "# Identify Unique Currencies\n",
    "unique_currencies = df['Payment Currency'].unique()\n",
    "print(unique_currencies)"
   ]
  },
  {
   "cell_type": "code",
   "execution_count": 10,
   "id": "8e4cb131-3f66-4970-bf77-a32ef2be7e2c",
   "metadata": {},
   "outputs": [
    {
     "name": "stdout",
     "output_type": "stream",
     "text": [
      "     Payment Currency  Is Laundering    Count  Count_total    Percent\n",
      "0   Australian Dollar              0   136642       136769  99.907143\n",
      "1   Australian Dollar              1      127       136769   0.092857\n",
      "2             Bitcoin              0   146010       146066  99.961661\n",
      "3             Bitcoin              1       56       146066   0.038339\n",
      "4         Brazil Real              0    70646        70703  99.919381\n",
      "5         Brazil Real              1       57        70703   0.080619\n",
      "6     Canadian Dollar              0   139914       140042  99.908599\n",
      "7     Canadian Dollar              1      128       140042   0.091401\n",
      "8                Euro              0  1166925      1168297  99.882564\n",
      "9                Euro              1     1372      1168297   0.117436\n",
      "10       Mexican Peso              0   110067       110159  99.916484\n",
      "11       Mexican Peso              1       92       110159   0.083516\n",
      "12              Ruble              0   155045       155178  99.914292\n",
      "13              Ruble              1      133       155178   0.085708\n",
      "14              Rupee              0   190035       190202  99.912199\n",
      "15              Rupee              1      167       190202   0.087801\n",
      "16        Saudi Riyal              0    88640        89014  99.579841\n",
      "17        Saudi Riyal              1      374        89014   0.420159\n",
      "18             Shekel              0   192089       192184  99.950568\n",
      "19             Shekel              1       95       192184   0.049432\n",
      "20        Swiss Franc              0   234667       234860  99.917823\n",
      "21        Swiss Franc              1      193       234860   0.082177\n",
      "22           UK Pound              0   180606       180738  99.926966\n",
      "23           UK Pound              1      132       180738   0.073034\n",
      "24          US Dollar              0  1893260      1895172  99.899112\n",
      "25          US Dollar              1     1912      1895172   0.100888\n",
      "26                Yen              0   155054       155209  99.900135\n",
      "27                Yen              1      155       155209   0.099865\n",
      "28               Yuan              0   213568       213752  99.913919\n",
      "29               Yuan              1      184       213752   0.086081\n"
     ]
    }
   ],
   "source": [
    "# Get the distribution the percentual distribution of flagged transactions by currency \n",
    "\n",
    "# Group by payment_currency and Is_Laundering, count the number of rows\n",
    "distribution = df.groupby(['Payment Currency', 'Is Laundering']).size().reset_index(name='Count')\n",
    "\n",
    "# Calculate the total counts per currency and name it\n",
    "total_counts = df.groupby('Payment Currency').size()\n",
    "total_counts.name = 'Count_total'\n",
    "\n",
    "# Join the total_counts to the distribution dataframe\n",
    "distribution = distribution.set_index('Payment Currency').join(total_counts)\n",
    "\n",
    "# Calculate the percentage\n",
    "distribution['Percent'] = distribution['Count'] / distribution['Count_total'] * 100\n",
    "\n",
    "# Reset the index\n",
    "distribution.reset_index(inplace=True)\n",
    "print(distribution)"
   ]
  },
  {
   "cell_type": "code",
   "execution_count": 11,
   "id": "6404f3bc-917b-4b5c-a453-aff2c7d31fe3",
   "metadata": {
    "editable": true,
    "scrolled": true,
    "slideshow": {
     "slide_type": ""
    },
    "tags": []
   },
   "outputs": [],
   "source": [
    "# Convert Timestamp into datetime\n",
    "df['Timestamp'] = pd.to_datetime(df['Timestamp'])\n",
    "\n",
    "# Create new columns for year, month, day, hour and minute\n",
    "df['Year'] = df['Timestamp'].dt.year\n",
    "df['Month'] = df['Timestamp'].dt.month\n",
    "df['Day'] = df['Timestamp'].dt.day\n",
    "df['Hour'] = df['Timestamp'].dt.hour\n",
    "df['Minute'] = df['Timestamp'].dt.minute\n"
   ]
  },
  {
   "cell_type": "code",
   "execution_count": 12,
   "id": "476c8538-66a2-4a32-8c71-586472795c01",
   "metadata": {},
   "outputs": [
    {
     "data": {
      "text/html": [
       "<div>\n",
       "<style scoped>\n",
       "    .dataframe tbody tr th:only-of-type {\n",
       "        vertical-align: middle;\n",
       "    }\n",
       "\n",
       "    .dataframe tbody tr th {\n",
       "        vertical-align: top;\n",
       "    }\n",
       "\n",
       "    .dataframe thead th {\n",
       "        text-align: right;\n",
       "    }\n",
       "</style>\n",
       "<table border=\"1\" class=\"dataframe\">\n",
       "  <thead>\n",
       "    <tr style=\"text-align: right;\">\n",
       "      <th></th>\n",
       "      <th>Timestamp</th>\n",
       "      <th>From Bank</th>\n",
       "      <th>Account</th>\n",
       "      <th>To Bank</th>\n",
       "      <th>Account.1</th>\n",
       "      <th>Amount Received</th>\n",
       "      <th>Receiving Currency</th>\n",
       "      <th>Amount Paid</th>\n",
       "      <th>Payment Currency</th>\n",
       "      <th>Payment Format</th>\n",
       "      <th>Is Laundering</th>\n",
       "      <th>Year</th>\n",
       "      <th>Month</th>\n",
       "      <th>Day</th>\n",
       "      <th>Hour</th>\n",
       "      <th>Minute</th>\n",
       "    </tr>\n",
       "  </thead>\n",
       "  <tbody>\n",
       "    <tr>\n",
       "      <th>0</th>\n",
       "      <td>2022-09-01 00:20:00</td>\n",
       "      <td>10</td>\n",
       "      <td>8000EBD30</td>\n",
       "      <td>10</td>\n",
       "      <td>8000EBD30</td>\n",
       "      <td>3697.34</td>\n",
       "      <td>US Dollar</td>\n",
       "      <td>3697.34</td>\n",
       "      <td>US Dollar</td>\n",
       "      <td>Reinvestment</td>\n",
       "      <td>0</td>\n",
       "      <td>2022</td>\n",
       "      <td>9</td>\n",
       "      <td>1</td>\n",
       "      <td>0</td>\n",
       "      <td>20</td>\n",
       "    </tr>\n",
       "    <tr>\n",
       "      <th>1</th>\n",
       "      <td>2022-09-01 00:20:00</td>\n",
       "      <td>3208</td>\n",
       "      <td>8000F4580</td>\n",
       "      <td>1</td>\n",
       "      <td>8000F5340</td>\n",
       "      <td>0.01</td>\n",
       "      <td>US Dollar</td>\n",
       "      <td>0.01</td>\n",
       "      <td>US Dollar</td>\n",
       "      <td>Cheque</td>\n",
       "      <td>0</td>\n",
       "      <td>2022</td>\n",
       "      <td>9</td>\n",
       "      <td>1</td>\n",
       "      <td>0</td>\n",
       "      <td>20</td>\n",
       "    </tr>\n",
       "    <tr>\n",
       "      <th>2</th>\n",
       "      <td>2022-09-01 00:00:00</td>\n",
       "      <td>3209</td>\n",
       "      <td>8000F4670</td>\n",
       "      <td>3209</td>\n",
       "      <td>8000F4670</td>\n",
       "      <td>14675.57</td>\n",
       "      <td>US Dollar</td>\n",
       "      <td>14675.57</td>\n",
       "      <td>US Dollar</td>\n",
       "      <td>Reinvestment</td>\n",
       "      <td>0</td>\n",
       "      <td>2022</td>\n",
       "      <td>9</td>\n",
       "      <td>1</td>\n",
       "      <td>0</td>\n",
       "      <td>0</td>\n",
       "    </tr>\n",
       "    <tr>\n",
       "      <th>3</th>\n",
       "      <td>2022-09-01 00:02:00</td>\n",
       "      <td>12</td>\n",
       "      <td>8000F5030</td>\n",
       "      <td>12</td>\n",
       "      <td>8000F5030</td>\n",
       "      <td>2806.97</td>\n",
       "      <td>US Dollar</td>\n",
       "      <td>2806.97</td>\n",
       "      <td>US Dollar</td>\n",
       "      <td>Reinvestment</td>\n",
       "      <td>0</td>\n",
       "      <td>2022</td>\n",
       "      <td>9</td>\n",
       "      <td>1</td>\n",
       "      <td>0</td>\n",
       "      <td>2</td>\n",
       "    </tr>\n",
       "    <tr>\n",
       "      <th>4</th>\n",
       "      <td>2022-09-01 00:06:00</td>\n",
       "      <td>10</td>\n",
       "      <td>8000F5200</td>\n",
       "      <td>10</td>\n",
       "      <td>8000F5200</td>\n",
       "      <td>36682.97</td>\n",
       "      <td>US Dollar</td>\n",
       "      <td>36682.97</td>\n",
       "      <td>US Dollar</td>\n",
       "      <td>Reinvestment</td>\n",
       "      <td>0</td>\n",
       "      <td>2022</td>\n",
       "      <td>9</td>\n",
       "      <td>1</td>\n",
       "      <td>0</td>\n",
       "      <td>6</td>\n",
       "    </tr>\n",
       "  </tbody>\n",
       "</table>\n",
       "</div>"
      ],
      "text/plain": [
       "            Timestamp  From Bank    Account  To Bank  Account.1   \n",
       "0 2022-09-01 00:20:00         10  8000EBD30       10  8000EBD30  \\\n",
       "1 2022-09-01 00:20:00       3208  8000F4580        1  8000F5340   \n",
       "2 2022-09-01 00:00:00       3209  8000F4670     3209  8000F4670   \n",
       "3 2022-09-01 00:02:00         12  8000F5030       12  8000F5030   \n",
       "4 2022-09-01 00:06:00         10  8000F5200       10  8000F5200   \n",
       "\n",
       "   Amount Received Receiving Currency  Amount Paid Payment Currency   \n",
       "0          3697.34          US Dollar      3697.34        US Dollar  \\\n",
       "1             0.01          US Dollar         0.01        US Dollar   \n",
       "2         14675.57          US Dollar     14675.57        US Dollar   \n",
       "3          2806.97          US Dollar      2806.97        US Dollar   \n",
       "4         36682.97          US Dollar     36682.97        US Dollar   \n",
       "\n",
       "  Payment Format  Is Laundering  Year  Month  Day  Hour  Minute  \n",
       "0   Reinvestment              0  2022      9    1     0      20  \n",
       "1         Cheque              0  2022      9    1     0      20  \n",
       "2   Reinvestment              0  2022      9    1     0       0  \n",
       "3   Reinvestment              0  2022      9    1     0       2  \n",
       "4   Reinvestment              0  2022      9    1     0       6  "
      ]
     },
     "execution_count": 12,
     "metadata": {},
     "output_type": "execute_result"
    }
   ],
   "source": [
    "# Let's inspect the dataframe\n",
    "df.head()"
   ]
  },
  {
   "cell_type": "code",
   "execution_count": 13,
   "id": "2dc25f3a-0ac0-49b6-b4dc-e2d9a7565784",
   "metadata": {},
   "outputs": [],
   "source": [
    "# Now let's standardise the Amounts to US Dollar \n",
    "\n",
    "# First let' create a dictionary to map full currency names to their  ISO codes\n",
    "currency_codes = {\n",
    "    'Australian Dollar': 'AUD',\n",
    "    'Bitcoin': 'BTC',\n",
    "    'Brazil Real': 'BRL',\n",
    "    'Canadian Dollar': 'CAD',\n",
    "    'Euro': 'EUR',\n",
    "    'Mexican Peso': 'MXN',\n",
    "    'Ruble': 'RUB',\n",
    "    'Rupee': 'INR',\n",
    "    'Saudi Riyal': 'SAR',\n",
    "    'Shekel': 'ILS',\n",
    "    'Swiss Franc': 'CHF',\n",
    "    'UK Pound': 'GBP',\n",
    "    'Yen': 'JPY',\n",
    "    'Yuan': 'CNY',\n",
    "    'US Dollar': 'USD'\n",
    "}\n",
    "\n",
    "# Replace the full currency names with their codes \n",
    "df['Currency Code'] = df['Payment Currency'].replace(currency_codes)\n"
   ]
  },
  {
   "cell_type": "code",
   "execution_count": 14,
   "id": "8288f096-da03-4ec7-b12e-1ad94dc14fd5",
   "metadata": {
    "scrolled": true
   },
   "outputs": [
    {
     "name": "stdout",
     "output_type": "stream",
     "text": [
      "   Currency Code        Rate\n",
      "0            GBP    0.896861\n",
      "1            EUR    1.019910\n",
      "2            AUD    1.561524\n",
      "3            BTC    0.000051\n",
      "4            BRL    5.412471\n",
      "5            CAD    1.383270\n",
      "6            MXN   20.146150\n",
      "7            RUB   60.203690\n",
      "8            INR   81.638404\n",
      "9            SAR    3.756801\n",
      "10           ILS    3.558540\n",
      "11           CHF    0.987171\n",
      "12           JPY  144.739040\n",
      "13           CNY    7.116041\n"
     ]
    }
   ],
   "source": [
    "import requests\n",
    "# Get the exchange rate for all the currencies by connecting to Exchange Rate Data API\n",
    "\n",
    "# Exchange rate data api key\n",
    "api_key = \"wdiQOxfDckJMZr70O1Brmvlh56iJEfE7\"\n",
    "\n",
    "# Arbitrary date to fetch the exchange rates\n",
    "date = \"2022-09-30\"\n",
    "\n",
    "# The list of currency codes to fetch the exchange rates\n",
    "currency_codes = [\"GBP\", \"EUR\", \"AUD\", \"BTC\", \"BRL\", \"CAD\", \"MXN\", \"RUB\", \"INR\", \"SAR\", \"ILS\", \"CHF\", \"JPY\", \"CNY\"]\n",
    "\n",
    "# URL\n",
    "url = f\"https://api.apilayer.com/exchangerates_data/{date}?symbols={','.join(currency_codes)}&base=USD\"\n",
    "\n",
    "# Define the headers\n",
    "headers = {\n",
    "  \"apikey\": api_key\n",
    "}\n",
    "\n",
    "# Send a GET request to the API\n",
    "response = requests.get(url, headers=headers)\n",
    "\n",
    "# Convert the response to JSON\n",
    "data = response.json()\n",
    "\n",
    "# Create a DataFrame from the rates\n",
    "df_rates = pd.DataFrame(data['rates'].items(), columns=['Currency Code', 'Rate'])\n",
    "\n",
    "# Display the DataFrame\n",
    "print(df_rates)\n"
   ]
  },
  {
   "cell_type": "code",
   "execution_count": 15,
   "id": "d3e18559-a3a4-4e2d-aa87-13e9bf1f3d0c",
   "metadata": {},
   "outputs": [],
   "source": [
    "# Merge df with df_rates on 'Currency Code', preserving all rows from df and filling in NaN for missing match\n",
    "df = df.merge(df_rates, on='Currency Code', how='left')\n",
    "\n",
    "# Wherever the rate is NaN, that means the currency was USD. We can fill those with 1.\n",
    "df['Rate'] = df['Rate'].fillna(1)\n"
   ]
  },
  {
   "cell_type": "code",
   "execution_count": 16,
   "id": "f3989e0c-2af0-453a-be6f-aa4659540634",
   "metadata": {},
   "outputs": [],
   "source": [
    "# Compute 'Amount Paid USD' and 'Amount Received USD'\n",
    "df['Amount Paid USD'] = df['Amount Paid'] * df['Rate']\n",
    "df['Amount Received USD'] = df['Amount Received'] * df['Rate']"
   ]
  },
  {
   "cell_type": "code",
   "execution_count": 17,
   "id": "c14dda5e-91bf-43a4-9748-b47aa0cbd297",
   "metadata": {
    "scrolled": true
   },
   "outputs": [
    {
     "data": {
      "text/html": [
       "<div>\n",
       "<style scoped>\n",
       "    .dataframe tbody tr th:only-of-type {\n",
       "        vertical-align: middle;\n",
       "    }\n",
       "\n",
       "    .dataframe tbody tr th {\n",
       "        vertical-align: top;\n",
       "    }\n",
       "\n",
       "    .dataframe thead th {\n",
       "        text-align: right;\n",
       "    }\n",
       "</style>\n",
       "<table border=\"1\" class=\"dataframe\">\n",
       "  <thead>\n",
       "    <tr style=\"text-align: right;\">\n",
       "      <th></th>\n",
       "      <th>Timestamp</th>\n",
       "      <th>From Bank</th>\n",
       "      <th>Account</th>\n",
       "      <th>To Bank</th>\n",
       "      <th>Account.1</th>\n",
       "      <th>Amount Received</th>\n",
       "      <th>Receiving Currency</th>\n",
       "      <th>Amount Paid</th>\n",
       "      <th>Payment Currency</th>\n",
       "      <th>Payment Format</th>\n",
       "      <th>Is Laundering</th>\n",
       "      <th>Year</th>\n",
       "      <th>Month</th>\n",
       "      <th>Day</th>\n",
       "      <th>Hour</th>\n",
       "      <th>Minute</th>\n",
       "      <th>Currency Code</th>\n",
       "      <th>Rate</th>\n",
       "      <th>Amount Paid USD</th>\n",
       "      <th>Amount Received USD</th>\n",
       "    </tr>\n",
       "  </thead>\n",
       "  <tbody>\n",
       "    <tr>\n",
       "      <th>0</th>\n",
       "      <td>2022-09-01 00:20:00</td>\n",
       "      <td>10</td>\n",
       "      <td>8000EBD30</td>\n",
       "      <td>10</td>\n",
       "      <td>8000EBD30</td>\n",
       "      <td>3697.34</td>\n",
       "      <td>US Dollar</td>\n",
       "      <td>3697.34</td>\n",
       "      <td>US Dollar</td>\n",
       "      <td>Reinvestment</td>\n",
       "      <td>0</td>\n",
       "      <td>2022</td>\n",
       "      <td>9</td>\n",
       "      <td>1</td>\n",
       "      <td>0</td>\n",
       "      <td>20</td>\n",
       "      <td>USD</td>\n",
       "      <td>1.0</td>\n",
       "      <td>3697.34</td>\n",
       "      <td>3697.34</td>\n",
       "    </tr>\n",
       "    <tr>\n",
       "      <th>1</th>\n",
       "      <td>2022-09-01 00:20:00</td>\n",
       "      <td>3208</td>\n",
       "      <td>8000F4580</td>\n",
       "      <td>1</td>\n",
       "      <td>8000F5340</td>\n",
       "      <td>0.01</td>\n",
       "      <td>US Dollar</td>\n",
       "      <td>0.01</td>\n",
       "      <td>US Dollar</td>\n",
       "      <td>Cheque</td>\n",
       "      <td>0</td>\n",
       "      <td>2022</td>\n",
       "      <td>9</td>\n",
       "      <td>1</td>\n",
       "      <td>0</td>\n",
       "      <td>20</td>\n",
       "      <td>USD</td>\n",
       "      <td>1.0</td>\n",
       "      <td>0.01</td>\n",
       "      <td>0.01</td>\n",
       "    </tr>\n",
       "    <tr>\n",
       "      <th>2</th>\n",
       "      <td>2022-09-01 00:00:00</td>\n",
       "      <td>3209</td>\n",
       "      <td>8000F4670</td>\n",
       "      <td>3209</td>\n",
       "      <td>8000F4670</td>\n",
       "      <td>14675.57</td>\n",
       "      <td>US Dollar</td>\n",
       "      <td>14675.57</td>\n",
       "      <td>US Dollar</td>\n",
       "      <td>Reinvestment</td>\n",
       "      <td>0</td>\n",
       "      <td>2022</td>\n",
       "      <td>9</td>\n",
       "      <td>1</td>\n",
       "      <td>0</td>\n",
       "      <td>0</td>\n",
       "      <td>USD</td>\n",
       "      <td>1.0</td>\n",
       "      <td>14675.57</td>\n",
       "      <td>14675.57</td>\n",
       "    </tr>\n",
       "    <tr>\n",
       "      <th>3</th>\n",
       "      <td>2022-09-01 00:02:00</td>\n",
       "      <td>12</td>\n",
       "      <td>8000F5030</td>\n",
       "      <td>12</td>\n",
       "      <td>8000F5030</td>\n",
       "      <td>2806.97</td>\n",
       "      <td>US Dollar</td>\n",
       "      <td>2806.97</td>\n",
       "      <td>US Dollar</td>\n",
       "      <td>Reinvestment</td>\n",
       "      <td>0</td>\n",
       "      <td>2022</td>\n",
       "      <td>9</td>\n",
       "      <td>1</td>\n",
       "      <td>0</td>\n",
       "      <td>2</td>\n",
       "      <td>USD</td>\n",
       "      <td>1.0</td>\n",
       "      <td>2806.97</td>\n",
       "      <td>2806.97</td>\n",
       "    </tr>\n",
       "    <tr>\n",
       "      <th>4</th>\n",
       "      <td>2022-09-01 00:06:00</td>\n",
       "      <td>10</td>\n",
       "      <td>8000F5200</td>\n",
       "      <td>10</td>\n",
       "      <td>8000F5200</td>\n",
       "      <td>36682.97</td>\n",
       "      <td>US Dollar</td>\n",
       "      <td>36682.97</td>\n",
       "      <td>US Dollar</td>\n",
       "      <td>Reinvestment</td>\n",
       "      <td>0</td>\n",
       "      <td>2022</td>\n",
       "      <td>9</td>\n",
       "      <td>1</td>\n",
       "      <td>0</td>\n",
       "      <td>6</td>\n",
       "      <td>USD</td>\n",
       "      <td>1.0</td>\n",
       "      <td>36682.97</td>\n",
       "      <td>36682.97</td>\n",
       "    </tr>\n",
       "  </tbody>\n",
       "</table>\n",
       "</div>"
      ],
      "text/plain": [
       "            Timestamp  From Bank    Account  To Bank  Account.1   \n",
       "0 2022-09-01 00:20:00         10  8000EBD30       10  8000EBD30  \\\n",
       "1 2022-09-01 00:20:00       3208  8000F4580        1  8000F5340   \n",
       "2 2022-09-01 00:00:00       3209  8000F4670     3209  8000F4670   \n",
       "3 2022-09-01 00:02:00         12  8000F5030       12  8000F5030   \n",
       "4 2022-09-01 00:06:00         10  8000F5200       10  8000F5200   \n",
       "\n",
       "   Amount Received Receiving Currency  Amount Paid Payment Currency   \n",
       "0          3697.34          US Dollar      3697.34        US Dollar  \\\n",
       "1             0.01          US Dollar         0.01        US Dollar   \n",
       "2         14675.57          US Dollar     14675.57        US Dollar   \n",
       "3          2806.97          US Dollar      2806.97        US Dollar   \n",
       "4         36682.97          US Dollar     36682.97        US Dollar   \n",
       "\n",
       "  Payment Format  Is Laundering  Year  Month  Day  Hour  Minute Currency Code   \n",
       "0   Reinvestment              0  2022      9    1     0      20           USD  \\\n",
       "1         Cheque              0  2022      9    1     0      20           USD   \n",
       "2   Reinvestment              0  2022      9    1     0       0           USD   \n",
       "3   Reinvestment              0  2022      9    1     0       2           USD   \n",
       "4   Reinvestment              0  2022      9    1     0       6           USD   \n",
       "\n",
       "   Rate  Amount Paid USD  Amount Received USD  \n",
       "0   1.0          3697.34              3697.34  \n",
       "1   1.0             0.01                 0.01  \n",
       "2   1.0         14675.57             14675.57  \n",
       "3   1.0          2806.97              2806.97  \n",
       "4   1.0         36682.97             36682.97  "
      ]
     },
     "execution_count": 17,
     "metadata": {},
     "output_type": "execute_result"
    }
   ],
   "source": [
    "df.head()"
   ]
  },
  {
   "cell_type": "code",
   "execution_count": 19,
   "id": "46eb6089-2452-4012-a2f1-9db33fb29bf0",
   "metadata": {},
   "outputs": [],
   "source": [
    "#df.to_csv('new_hi_small_trans.csv', index=False)\n"
   ]
  },
  {
   "cell_type": "code",
   "execution_count": 20,
   "id": "3a7a4c2d-ee32-40b3-b330-2e7089826a1c",
   "metadata": {},
   "outputs": [],
   "source": [
    "df_temp = df.head(10000)"
   ]
  },
  {
   "cell_type": "code",
   "execution_count": 26,
   "id": "8ff798a8",
   "metadata": {},
   "outputs": [
    {
     "name": "stdout",
     "output_type": "stream",
     "text": [
      "Requirement already satisfied: networkx in /Users/Malte/.pyenv/versions/3.10.6/envs/aml_detector/lib/python3.10/site-packages (3.1)\n"
     ]
    }
   ],
   "source": [
    "! pip install networkx\n",
    "import networkx as nx\n",
    "G = nx.MultiGraph()\n",
    "\n",
    "# Add nodes to the graph for each unique card_id, merchant_name\n",
    "G.add_nodes_from(df[\"Account\"].unique(), type='Account')\n",
    "G.add_nodes_from(df[\"Account.1\"].unique(), type='Account.1')"
   ]
  },
  {
   "cell_type": "code",
   "execution_count": 27,
   "id": "0921c347",
   "metadata": {},
   "outputs": [
    {
     "data": {
      "text/plain": [
       "array(['8000EBD30', '8000F4580', '8000F4670', ..., '811375C10',\n",
       "       '8148A6631', '8148A8671'], dtype=object)"
      ]
     },
     "execution_count": 27,
     "metadata": {},
     "output_type": "execute_result"
    }
   ],
   "source": [
    "df[\"Account\"].unique()"
   ]
  },
  {
   "attachments": {},
   "cell_type": "markdown",
   "id": "e743e036",
   "metadata": {},
   "source": [
    "# Add nodes to the graph for each unique card_id, merchant_name\n",
    "G.add_nodes_from(df[\"Account\"].unique(), type='Account')\n",
    "G.add_nodes_from(df[\"Account.1\"].unique(), type='Account.1')"
   ]
  },
  {
   "cell_type": "code",
   "execution_count": 28,
   "id": "a3b8bc33",
   "metadata": {},
   "outputs": [],
   "source": [
    "df_temp = df.head(10000)"
   ]
  },
  {
   "cell_type": "code",
   "execution_count": 29,
   "id": "e657464f",
   "metadata": {},
   "outputs": [],
   "source": [
    "for _, row in df_temp.iterrows():\n",
    "    # Create a variable for each properties for each edge\n",
    "    \n",
    "        year = row[\"Year\"],\n",
    "        month = row[\"Month\"],\n",
    "        day = row[\"Day\"],\n",
    "        hour = row[\"Hour\"],\n",
    "        minute =row[\"Minute\"],\n",
    "        amount_paid = row[\"Amount Paid USD\"],\n",
    "        currency_code =  row[\"Currency Code\"],\n",
    "        payment_format = row[\"Payment Format\"]\n",
    "    \n",
    " \n",
    "        G.add_edge(row['Account'], row['Account.1'], year = year , month = month , day = day ,\n",
    "              hour = hour , minute = minute , amount_paid = amount_paid , currency_code = currency_code ,\n",
    "              payment_format = payment_format)\n",
    "  "
   ]
  },
  {
   "cell_type": "code",
   "execution_count": 30,
   "id": "b21c0b21",
   "metadata": {},
   "outputs": [
    {
     "name": "stdout",
     "output_type": "stream",
     "text": [
      "Number of nodes: 515080\n",
      "Number of edges: 10000\n"
     ]
    }
   ],
   "source": [
    "# Get the number of nodes and edges in the graph\n",
    "num_nodes = G.number_of_nodes()\n",
    "num_edges = G.number_of_edges()\n",
    "\n",
    "# Print the number of nodes and edges\n",
    "print(\"Number of nodes:\", num_nodes)\n",
    "print(\"Number of edges:\", num_edges)"
   ]
  },
  {
   "cell_type": "code",
   "execution_count": 31,
   "id": "bfa41530",
   "metadata": {},
   "outputs": [],
   "source": [
    "# Convert the graph to an adjacency matrix\n",
    "adj_matrix = nx.adjacency_matrix(G).todense()"
   ]
  },
  {
   "cell_type": "code",
   "execution_count": 32,
   "id": "150ab6c1",
   "metadata": {},
   "outputs": [
    {
     "data": {
      "text/plain": [
       "(515080, 515080)"
      ]
     },
     "execution_count": 32,
     "metadata": {},
     "output_type": "execute_result"
    }
   ],
   "source": [
    "adj_matrix.shape"
   ]
  },
  {
   "cell_type": "code",
   "execution_count": 33,
   "id": "36b682b6",
   "metadata": {},
   "outputs": [
    {
     "name": "stdout",
     "output_type": "stream",
     "text": [
      "Node: 8000EBD30, Properties: Account.1\n",
      "Node: 8000F4580, Properties: Account\n",
      "Node: 8000F4670, Properties: Account.1\n",
      "Node: 8000F5030, Properties: Account.1\n",
      "Node: 8000F5200, Properties: Account.1\n",
      "Node: 8000F5AD0, Properties: Account.1\n",
      "Node: 8000EBAC0, Properties: Account.1\n",
      "Node: 8000EC1E0, Properties: Account.1\n",
      "Node: 8000EC280, Properties: Account.1\n",
      "Node: 8000EDEC0, Properties: Account\n"
     ]
    }
   ],
   "source": [
    "# Get a small sample of the nodes in the graph\n",
    "sample_nodes = list(G.nodes())[:10]\n",
    "\n",
    "# Retrieve the properties of the sample nodes\n",
    "node_properties = nx.get_node_attributes(G, 'type')\n",
    "\n",
    "# Print the properties of the sample nodes\n",
    "for node in sample_nodes:\n",
    "    print(f\"Node: {node}, Properties: {node_properties[node]}\")"
   ]
  },
  {
   "cell_type": "code",
   "execution_count": 34,
   "id": "a65bdf15",
   "metadata": {},
   "outputs": [
    {
     "name": "stdout",
     "output_type": "stream",
     "text": [
      "{0: {'year': (2022,), 'month': (9,), 'day': (1,), 'hour': (0,), 'minute': (20,), 'amount_paid': (3697.34,), 'currency_code': ('USD',), 'payment_format': 'Reinvestment'}}\n",
      "{0: {'year': (2022,), 'month': (9,), 'day': (1,), 'hour': (0,), 'minute': (20,), 'amount_paid': (0.01,), 'currency_code': ('USD',), 'payment_format': 'Cheque'}}\n",
      "{0: {'year': (2022,), 'month': (9,), 'day': (1,), 'hour': (0,), 'minute': (0,), 'amount_paid': (14675.57,), 'currency_code': ('USD',), 'payment_format': 'Reinvestment'}}\n",
      "{0: {'year': (2022,), 'month': (9,), 'day': (1,), 'hour': (0,), 'minute': (2,), 'amount_paid': (2806.97,), 'currency_code': ('USD',), 'payment_format': 'Reinvestment'}}\n",
      "{0: {'year': (2022,), 'month': (9,), 'day': (1,), 'hour': (0,), 'minute': (6,), 'amount_paid': (36682.97,), 'currency_code': ('USD',), 'payment_format': 'Reinvestment'}}\n"
     ]
    }
   ],
   "source": [
    "sample_size = 5\n",
    "for i, edge in enumerate(G.edges()):\n",
    "    print(G.get_edge_data(*edge))\n",
    "    if i >= sample_size - 1:\n",
    "        break"
   ]
  },
  {
   "cell_type": "code",
   "execution_count": 35,
   "id": "498d89d8",
   "metadata": {},
   "outputs": [],
   "source": [
    "import collections\n",
    "# Retrieve the properties errors of all the edges\n",
    "edge_properties = nx.get_edge_attributes(G, 'errors')\n",
    "\n",
    "# Count the number of edges by property value\n",
    "edge_count_by_property = collections.Counter(edge_properties.values())\n",
    "\n",
    "# Print the count of edges by property value\n",
    "for property_value, count in edge_count_by_property.items():\n",
    "    print(f\"Property value: {property_value}, Count: {count}\")"
   ]
  },
  {
   "cell_type": "code",
   "execution_count": 36,
   "id": "3d42cb78",
   "metadata": {},
   "outputs": [],
   "source": [
    "# Prepare the data for input into the model\n",
    "edge_list = list(G.edges(data=True))\n"
   ]
  },
  {
   "cell_type": "code",
   "execution_count": 37,
   "id": "fc860b5f",
   "metadata": {},
   "outputs": [
    {
     "data": {
      "text/plain": [
       "[(2022,), (9,), (1,), (0,), (6,), (36682.97,), ('USD',), 'Reinvestment']"
      ]
     },
     "execution_count": 37,
     "metadata": {},
     "output_type": "execute_result"
    }
   ],
   "source": [
    "list(edge_list[i][2].values())"
   ]
  },
  {
   "cell_type": "code",
   "execution_count": 38,
   "id": "267fe097",
   "metadata": {},
   "outputs": [
    {
     "data": {
      "image/png": "[encoded data removed]",
      "text/plain": [
       "<Figure size 640x480 with 1 Axes>"
      ]
     },
     "metadata": {},
     "output_type": "display_data"
    }
   ],
   "source": [
    "G = nx.complete_graph(sample_nodes)\n",
    "nx.draw(G)"
   ]
  },
  {
   "cell_type": "code",
   "execution_count": null,
   "id": "14e63f23",
   "metadata": {},
   "outputs": [],
   "source": []
  }
 ],
 "metadata": {
  "kernelspec": {
   "display_name": "Python 3 (ipykernel)",
   "language": "python",
   "name": "python3"
  },
  "language_info": {
   "codemirror_mode": {
    "name": "ipython",
    "version": 3
   },
   "file_extension": ".py",
   "mimetype": "text/x-python",
   "name": "python",
   "nbconvert_exporter": "python",
   "pygments_lexer": "ipython3",
   "version": "3.10.6"
  }
 },
 "nbformat": 4,
 "nbformat_minor": 5
}
