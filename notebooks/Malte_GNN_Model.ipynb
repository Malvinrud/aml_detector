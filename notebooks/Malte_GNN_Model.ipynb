{
 "cells": [
  {
   "cell_type": "markdown",
   "id": "f3837d73-64f0-46c0-ae26-ad6c3333b7c0",
   "metadata": {},
   "source": [
    "## Preprocessing and cleaning \n",
    "\n",
    "In this notebook I explore the dataset and pre process it in order to generate a new dataset. In short the procedure contains\n",
    "1) The creation of new columns  'Year', 'Month', 'Day', 'Hour', 'Minute', 'Currency Code',\t'Rate',\t'Amount Paid USD',\t'Amount Received USD'\n",
    "2) Standardise amount in different currencies to USD\n",
    " "
   ]
  },
  {
   "cell_type": "code",
   "execution_count": null,
   "id": "6815b5a0-c315-4ff2-85b1-19ff9426db24",
   "metadata": {},
   "outputs": [],
   "source": [
    "import pandas as pd \n",
    "import numpy as np\n",
    "from sklearn.model_selection import train_test_split"
   ]
  },
  {
   "cell_type": "code",
   "execution_count": null,
   "id": "7d80ad96-fd33-463f-bfa7-ff0c1e48d266",
   "metadata": {
    "editable": true,
    "slideshow": {
     "slide_type": ""
    },
    "tags": []
   },
   "outputs": [],
   "source": [
    "from data import *\n",
    "df = get_data_local()\n",
    "df = clean_data(df)\n",
    "df = data_reduction(df)\n",
    "df, df_test = train_test_split(df, test_size=0.3)"
   ]
  },
  {
   "cell_type": "code",
   "execution_count": null,
   "id": "d54c526b",
   "metadata": {},
   "outputs": [],
   "source": [
    "df_test"
   ]
  },
  {
   "cell_type": "code",
   "execution_count": null,
   "id": "82c20062-2cc5-4040-9c7b-7030ee240a1b",
   "metadata": {},
   "outputs": [],
   "source": [
    "# Get number of rows\n",
    "num_rows = len(df)\n",
    "print(\"Number of rows: \", num_rows)"
   ]
  },
  {
   "cell_type": "code",
   "execution_count": null,
   "id": "183226f4",
   "metadata": {},
   "outputs": [],
   "source": [
    "df.shape"
   ]
  },
  {
   "cell_type": "code",
   "execution_count": null,
   "id": "3704f756-6cb7-4af8-90ac-1a2829f704fa",
   "metadata": {},
   "outputs": [],
   "source": [
    "# Column names and data type\n",
    "df.dtypes"
   ]
  },
  {
   "cell_type": "code",
   "execution_count": null,
   "id": "6c674260-dd3c-4ade-bbdd-90e908ce8e37",
   "metadata": {},
   "outputs": [],
   "source": [
    "#How many unique accounts there are\n",
    "unique_count = df['from_account'].nunique()\n",
    "print('Unique count of Account: ', unique_count)\n"
   ]
  },
  {
   "cell_type": "code",
   "execution_count": null,
   "id": "e3df5d45-3c9b-40ff-bd08-c46590a03901",
   "metadata": {
    "scrolled": true
   },
   "outputs": [],
   "source": [
    "# Get the distribution of Is Laundering \n",
    "laundering_counts = df['is_laundering'].value_counts(normalize=True)\n",
    "print(laundering_counts)"
   ]
  },
  {
   "cell_type": "code",
   "execution_count": null,
   "id": "ead18af7",
   "metadata": {},
   "outputs": [],
   "source": [
    "df.columns"
   ]
  },
  {
   "cell_type": "code",
   "execution_count": null,
   "id": "d2bce668-8815-439c-8869-815e2063c0df",
   "metadata": {},
   "outputs": [],
   "source": [
    "# Identify Unique Currencies\n",
    "#unique_currencies = df['currency_pair'].unique()\n",
    "#print(unique_currencies)"
   ]
  },
  {
   "cell_type": "code",
   "execution_count": null,
   "id": "8e4cb131-3f66-4970-bf77-a32ef2be7e2c",
   "metadata": {},
   "outputs": [],
   "source": [
    "# Get the distribution the percentual distribution of flagged transactions by currency \n",
    "\n",
    "# Group by payment_currency and Is_Laundering, count the number of rows\n",
    "#distribution = df.groupby(['currency_pair', 'is_laundering']).size().reset_index(name='Count')\n",
    "\n",
    "# Calculate the total counts per currency and name it\n",
    "#total_counts = df.groupby('currency_pair').size()\n",
    "#total_counts.name = 'Count_total'\n",
    "\n",
    "# Join the total_counts to the distribution dataframe\n",
    "#distribution = distribution.set_index('currency_pair').join(total_counts)\n",
    "\n",
    "# Calculate the percentage\n",
    "#distribution['Percent'] = distribution['Count'] / distribution['Count_total'] * 100\n",
    "\n",
    "# Reset the index\n",
    "#distribution.reset_index(inplace=True)\n",
    "#print(distribution)"
   ]
  },
  {
   "cell_type": "code",
   "execution_count": null,
   "id": "6404f3bc-917b-4b5c-a453-aff2c7d31fe3",
   "metadata": {
    "editable": true,
    "scrolled": true,
    "slideshow": {
     "slide_type": ""
    },
    "tags": []
   },
   "outputs": [],
   "source": [
    "# Convert Timestamp into datetime\n",
    "#df['Timestamp'] = pd.to_datetime(df['Timestamp'])\n",
    "\n",
    "# Create new columns for year, month, day, hour and minute\n",
    "#df['Year'] = df['Timestamp'].dt.year\n",
    "#df['Month'] = df['Timestamp'].dt.month\n",
    "#df['Day'] = df['Timestamp'].dt.day\n",
    "#df['Hour'] = df['Timestamp'].dt.hour\n",
    "#df['Minute'] = df['Timestamp'].dt.minute\n"
   ]
  },
  {
   "cell_type": "code",
   "execution_count": null,
   "id": "476c8538-66a2-4a32-8c71-586472795c01",
   "metadata": {},
   "outputs": [],
   "source": [
    "# Let's inspect the dataframe\n",
    "df.head()"
   ]
  },
  {
   "cell_type": "code",
   "execution_count": null,
   "id": "2dc25f3a-0ac0-49b6-b4dc-e2d9a7565784",
   "metadata": {},
   "outputs": [],
   "source": [
    "# Now let's standardise the Amounts to US Dollar \n",
    "\n",
    "# First let' create a dictionary to map full currency names to their  ISO codes\n",
    "#currency_codes = {\n",
    "#    'Australian Dollar': 'AUD',\n",
    "#    'Bitcoin': 'BTC',\n",
    "#    'Brazil Real': 'BRL',\n",
    "#    'Canadian Dollar': 'CAD',\n",
    "#    'Euro': 'EUR',\n",
    "#    'Mexican Peso': 'MXN',\n",
    "#    'Ruble': 'RUB',\n",
    "#    'Rupee': 'INR',\n",
    "#    'Saudi Riyal': 'SAR',\n",
    "#    'Shekel': 'ILS',\n",
    "#    'Swiss Franc': 'CHF',\n",
    "#    'UK Pound': 'GBP',\n",
    "#    'Yen': 'JPY',\n",
    "#    'Yuan': 'CNY',\n",
    "#    'US Dollar': 'USD'\n",
    "#}\n",
    "\n",
    "# Replace the full currency names with their codes \n",
    "#df['Currency Code'] = df['Payment Currency'].replace(currency_codes)\n"
   ]
  },
  {
   "cell_type": "code",
   "execution_count": null,
   "id": "8288f096-da03-4ec7-b12e-1ad94dc14fd5",
   "metadata": {
    "scrolled": true
   },
   "outputs": [],
   "source": [
    "#import requests\n",
    "# Get the exchange rate for all the currencies by connecting to Exchange Rate Data API\n",
    "\n",
    "# Exchange rate data api key\n",
    "#api_key = \"wdiQOxfDckJMZr70O1Brmvlh56iJEfE7\"\n",
    "\n",
    "# Arbitrary date to fetch the exchange rates\n",
    "#date = \"2022-09-30\"\n",
    "\n",
    "# The list of currency codes to fetch the exchange rates\n",
    "#currency_codes = [\"GBP\", \"EUR\", \"AUD\", \"BTC\", \"BRL\", \"CAD\", \"MXN\", \"RUB\", \"INR\", \"SAR\", \"ILS\", \"CHF\", \"JPY\", \"CNY\"]\n",
    "\n",
    "# URL\n",
    "#url = f\"https://api.apilayer.com/exchangerates_data/{date}?symbols={','.join(currency_codes)}&base=USD\"\n",
    "\n",
    "# Define the headers\n",
    "#headers = {\n",
    "#  \"apikey\": api_key\n",
    "#}\n",
    "\n",
    "# Send a GET request to the API\n",
    "#response = requests.get(url, headers=headers)\n",
    "\n",
    "# Convert the response to JSON\n",
    "#data = response.json()\n",
    "\n",
    "# Create a DataFrame from the rates\n",
    "\n",
    "#df_rates = pd.DataFrame(data['rates'].items(), columns=['Currency Code', 'Rate'])\n",
    "\n",
    "# Display the DataFrame\n",
    "#print(df_rates)\n"
   ]
  },
  {
   "cell_type": "code",
   "execution_count": null,
   "id": "d3e18559-a3a4-4e2d-aa87-13e9bf1f3d0c",
   "metadata": {},
   "outputs": [],
   "source": [
    "# Merge df with df_rates on 'Currency Code', preserving all rows from df and filling in NaN for missing match\n",
    "#df = df.merge(df_rates, on='Currency Code', how='left')\n",
    "\n",
    "# Wherever the rate is NaN, that means the currency was USD. We can fill those with 1.\n",
    "#df['Rate'] = df['Rate'].fillna(1)\n"
   ]
  },
  {
   "cell_type": "code",
   "execution_count": null,
   "id": "f3989e0c-2af0-453a-be6f-aa4659540634",
   "metadata": {},
   "outputs": [],
   "source": [
    "# Compute 'Amount Paid USD' and 'Amount Received USD'\n",
    "#df['Amount Paid USD'] = df['Amount Paid'] * df['Rate']\n",
    "#df['Amount Received USD'] = df['Amount Received'] * df['Rate']"
   ]
  },
  {
   "cell_type": "code",
   "execution_count": null,
   "id": "84c2c165",
   "metadata": {},
   "outputs": [],
   "source": [
    "df"
   ]
  },
  {
   "cell_type": "code",
   "execution_count": null,
   "id": "cb190ed9",
   "metadata": {},
   "outputs": [],
   "source": [
    "from sklearn.preprocessing import OneHotEncoder\n",
    "ohe = OneHotEncoder(sparse = False)\n",
    "ohe.fit(df[['payment_format']])\n",
    "\n",
    "df[ohe.get_feature_names_out()] = ohe.transform(df[['payment_format']])\n",
    "\n",
    "ohe.fit(df[['receiving_currency']])\n",
    "df[ohe.get_feature_names_out()] = ohe.transform(df[['receiving_currency']])\n",
    "\n",
    "ohe.fit(df[['payment_currency']])\n",
    "df[ohe.get_feature_names_out()] = ohe.transform(df[['payment_currency']])"
   ]
  },
  {
   "cell_type": "code",
   "execution_count": null,
   "id": "3a7a4c2d-ee32-40b3-b330-2e7089826a1c",
   "metadata": {},
   "outputs": [],
   "source": []
  },
  {
   "cell_type": "code",
   "execution_count": null,
   "id": "fa5a7b1c",
   "metadata": {},
   "outputs": [],
   "source": [
    "df.columns"
   ]
  },
  {
   "cell_type": "code",
   "execution_count": null,
   "id": "8ff798a8",
   "metadata": {},
   "outputs": [],
   "source": [
    "! pip install networkx\n",
    "import networkx as nx\n",
    "G = nx.MultiGraph()\n",
    "\n",
    "# Add nodes to the graph for each unique card_id, merchant_name\n",
    "G.add_nodes_from(df[\"from_account\"].unique(), type='from_account')\n",
    "G.add_nodes_from(df[\"to_account\"].unique(), type='to_account')"
   ]
  },
  {
   "cell_type": "code",
   "execution_count": null,
   "id": "0921c347",
   "metadata": {},
   "outputs": [],
   "source": [
    "#len(df_temp[\"Account\"].unique())"
   ]
  },
  {
   "cell_type": "code",
   "execution_count": null,
   "id": "e3942802",
   "metadata": {},
   "outputs": [],
   "source": [
    "#for i in df.columns: \n",
    "#    print(f\"{i}\" + \" = \" + f\"{i}\" +\",\")"
   ]
  },
  {
   "cell_type": "code",
   "execution_count": null,
   "id": "e657464f",
   "metadata": {},
   "outputs": [],
   "source": [
    "for _, row in df.iterrows():\n",
    "    # Create a variable for each properties for each edge\n",
    "    \n",
    "        from_bank = row['from_bank'],\n",
    "        from_account = row['from_account'],\n",
    "        to_bank = row['to_bank'],\n",
    "        to_account = row['to_account'],\n",
    "        amount_paid_USD = row['amount_paid_USD'],\n",
    "        amount_received_USD = row['amount_received_USD'],\n",
    "        month = row['month'],\n",
    "        day = row['day'],\n",
    "        hour = row['hour'],\n",
    "        minute = row['minute'],\n",
    "        payment_format_ACH = row['payment_format_ACH'],\n",
    "        payment_format_Bitcoin = row['payment_format_Bitcoin'],\n",
    "        payment_format_Cash = row['payment_format_Cash'],\n",
    "        payment_format_Cheque = row['payment_format_Cheque'],\n",
    "        payment_format_Credit = row['payment_format_Credit Card'],\n",
    "        receiving_currency_BRL = row['receiving_currency_BRL'],\n",
    "        receiving_currency_CAD = row['receiving_currency_CAD'],\n",
    "        receiving_currency_CHF = row['receiving_currency_CHF'],\n",
    "        receiving_currency_CNY = row['receiving_currency_CNY'],\n",
    "        receiving_currency_EUR = row['receiving_currency_EUR'],\n",
    "        receiving_currency_GBP = row['receiving_currency_GBP'],\n",
    "        receiving_currency_ILS = row['receiving_currency_ILS'],\n",
    "        receiving_currency_INR = row['receiving_currency_INR'],\n",
    "        receiving_currency_JPY = row['receiving_currency_JPY'],\n",
    "        receiving_currency_MXN = row['receiving_currency_MXN'],\n",
    "        receiving_currency_RUB = row['receiving_currency_RUB'],\n",
    "        receiving_currency_SAR = row['receiving_currency_SAR'],\n",
    "        receiving_currency_USD = row['receiving_currency_USD'],\n",
    "        receiving_currency_XBT = row['receiving_currency_XBT'],\n",
    "        receiving_currency_nan = row['receiving_currency_nan'],\n",
    "        payment_currency_BRL = row['payment_currency_BRL'],\n",
    "        payment_currency_CAD = row['payment_currency_CAD'],\n",
    "        payment_currency_CHF = row['payment_currency_CHF'],\n",
    "        payment_currency_CNY = row['payment_currency_CNY'],\n",
    "        payment_currency_EUR = row['payment_currency_EUR'],\n",
    "        payment_currency_GBP = row['payment_currency_GBP'],\n",
    "        payment_currency_ILS = row['payment_currency_ILS'],\n",
    "        payment_currency_INR = row['payment_currency_INR'],\n",
    "        payment_currency_JPY = row['payment_currency_JPY'],\n",
    "        payment_currency_MXN = row['payment_currency_MXN'],\n",
    "        payment_currency_RUB = row['payment_currency_RUB'],\n",
    "        payment_currency_SAR = row['payment_currency_SAR'],\n",
    "        payment_currency_USD = row['payment_currency_USD'],\n",
    "        payment_currency_XBT = row['payment_currency_XBT'],\n",
    "        payment_currency_nan = row['payment_currency_nan']\n",
    " \n",
    "        G.add_edge(row['from_account'], row['to_account'], \n",
    "            from_bank = from_bank,\n",
    "            to_bank = to_bank,\n",
    "            amount_paid_USD = amount_paid_USD,\n",
    "            amount_received_USD = amount_received_USD,\n",
    "            month = month,\n",
    "            day = day,\n",
    "            hour = hour,\n",
    "            minute = minute,\n",
    "            payment_format_ACH = payment_format_ACH,\n",
    "            payment_format_Bitcoin = payment_format_Bitcoin,\n",
    "            payment_format_Cash = payment_format_Cash,\n",
    "            payment_format_Cheque = payment_format_Cheque,\n",
    "            payment_format_Credit = payment_format_Credit,\n",
    "            receiving_currency_BRL = receiving_currency_BRL,\n",
    "            receiving_currency_CAD = receiving_currency_CAD,\n",
    "            receiving_currency_CHF = receiving_currency_CHF,\n",
    "            receiving_currency_CNY = receiving_currency_CNY,\n",
    "            receiving_currency_EUR = receiving_currency_EUR,\n",
    "            receiving_currency_GBP = receiving_currency_GBP,\n",
    "            receiving_currency_ILS = receiving_currency_ILS,\n",
    "            receiving_currency_INR = receiving_currency_INR,\n",
    "            receiving_currency_JPY = receiving_currency_JPY,\n",
    "            receiving_currency_MXN = receiving_currency_MXN,\n",
    "            receiving_currency_RUB = receiving_currency_RUB,\n",
    "            receiving_currency_SAR = receiving_currency_SAR,\n",
    "            receiving_currency_USD = receiving_currency_USD,\n",
    "            receiving_currency_XBT = receiving_currency_XBT,\n",
    "            receiving_currency_nan = receiving_currency_nan,\n",
    "            payment_currency_BRL = payment_currency_BRL,\n",
    "            payment_currency_CAD = payment_currency_CAD,\n",
    "            payment_currency_CHF = payment_currency_CHF,\n",
    "            payment_currency_CNY = payment_currency_CNY,\n",
    "            payment_currency_EUR = payment_currency_EUR,\n",
    "            payment_currency_GBP = payment_currency_GBP,\n",
    "            payment_currency_ILS = payment_currency_ILS,\n",
    "            payment_currency_INR = payment_currency_INR,\n",
    "            payment_currency_JPY = payment_currency_JPY,\n",
    "            payment_currency_MXN = payment_currency_MXN,\n",
    "            payment_currency_RUB = payment_currency_RUB,\n",
    "            payment_currency_SAR = payment_currency_SAR,\n",
    "            payment_currency_USD = payment_currency_USD,\n",
    "            payment_currency_XBT = payment_currency_XBT,\n",
    "            payment_currency_nan = payment_currency_nan)\n",
    "  "
   ]
  },
  {
   "cell_type": "code",
   "execution_count": null,
   "id": "b21c0b21",
   "metadata": {},
   "outputs": [],
   "source": [
    "# Get the number of nodes and edges in the graph\n",
    "num_nodes = G.number_of_nodes()\n",
    "num_edges = G.number_of_edges()\n",
    "\n",
    "# Print the number of nodes and edges\n",
    "print(\"Number of nodes:\", num_nodes)\n",
    "print(\"Number of edges:\", num_edges)"
   ]
  },
  {
   "cell_type": "code",
   "execution_count": null,
   "id": "100aa9f6",
   "metadata": {},
   "outputs": [],
   "source": []
  },
  {
   "cell_type": "code",
   "execution_count": null,
   "id": "424612ed",
   "metadata": {},
   "outputs": [],
   "source": [
    "G.size"
   ]
  },
  {
   "cell_type": "code",
   "execution_count": null,
   "id": "bfa41530",
   "metadata": {},
   "outputs": [],
   "source": [
    "# Convert the graph to an adjacency matrix\n",
    "adj_matrix = nx.adjacency_matrix(G).todense()"
   ]
  },
  {
   "cell_type": "code",
   "execution_count": null,
   "id": "150ab6c1",
   "metadata": {},
   "outputs": [],
   "source": [
    "adj_matrix"
   ]
  },
  {
   "cell_type": "code",
   "execution_count": null,
   "id": "36b682b6",
   "metadata": {},
   "outputs": [],
   "source": [
    "# Get a small sample of the nodes in the graph\n",
    "sample_nodes = list(G.nodes())[:10]\n",
    "\n",
    "# Retrieve the properties of the sample nodes\n",
    "node_properties = nx.get_node_attributes(G, 'type')\n",
    "\n",
    "# Print the properties of the sample nodes\n",
    "for node in sample_nodes:\n",
    "    print(f\"Node: {node}, Properties: {node_properties[node]}\")"
   ]
  },
  {
   "cell_type": "code",
   "execution_count": null,
   "id": "a65bdf15",
   "metadata": {},
   "outputs": [],
   "source": [
    "sample_size = 5\n",
    "for i, edge in enumerate(G.edges()):\n",
    "    print(G.get_edge_data(*edge))\n",
    "    if i >= sample_size - 1:\n",
    "        break"
   ]
  },
  {
   "cell_type": "code",
   "execution_count": null,
   "id": "498d89d8",
   "metadata": {},
   "outputs": [],
   "source": [
    "import collections\n",
    "# Retrieve the properties errors of all the edges\n",
    "edge_properties = nx.get_edge_attributes(G, 'errors')\n",
    "\n",
    "# Count the number of edges by property value\n",
    "edge_count_by_property = collections.Counter(edge_properties.values())\n",
    "\n",
    "# Print the count of edges by property value\n",
    "for property_value, count in edge_count_by_property.items():\n",
    "    print(f\"Property value: {property_value}, Count: {count}\")"
   ]
  },
  {
   "cell_type": "code",
   "execution_count": null,
   "id": "3d42cb78",
   "metadata": {},
   "outputs": [],
   "source": [
    "# Prepare the data for input into the model\n",
    "edge_list = list(G.edges(data=True))\n"
   ]
  },
  {
   "cell_type": "code",
   "execution_count": null,
   "id": "fc860b5f",
   "metadata": {},
   "outputs": [],
   "source": [
    "list(edge_list[i][2].values())"
   ]
  },
  {
   "cell_type": "code",
   "execution_count": null,
   "id": "14e63f23",
   "metadata": {},
   "outputs": [],
   "source": [
    "\n",
    "import torch\n",
    "import torch.nn as nn\n",
    "import torch.nn.functional as F\n",
    "\n",
    "class FraudGNN(nn.Module):\n",
    "    def __init__(self, input_dim, hidden_dim):\n",
    "        super(FraudGNN, self).__init__()\n",
    "        self.fc1 = nn.Linear(input_dim, hidden_dim)\n",
    "        self.fc2 = nn.Linear(hidden_dim, 1)\n",
    "        \n",
    "    def forward(self, x):\n",
    "        x = self.fc1(x)\n",
    "        x = F.relu(x)\n",
    "        x = self.fc2(x)\n",
    "        return x.squeeze(-1)\n",
    "\n",
    "# Prepare the data for input into the model\n",
    "edge_list = list(G.edges(data=True))\n",
    "x = []\n",
    "for edge in edge_list:\n",
    "    edge_values = list(edge[2].values())\n",
    "    print(edge_values)\n",
    "    edge_values = [float(i[0]) if type(i) == tuple and type(i[0]) == str else i[0] if type(i) == tuple else i for i in edge_values]\n",
    "    x.append(edge_values)\n",
    "x = torch.tensor(x, dtype=torch.float)"
   ]
  },
  {
   "cell_type": "code",
   "execution_count": null,
   "id": "bd06676f",
   "metadata": {},
   "outputs": [],
   "source": [
    "test = pd.DataFrame(x)\n",
    "test.shape"
   ]
  },
  {
   "cell_type": "code",
   "execution_count": null,
   "id": "836b623f",
   "metadata": {},
   "outputs": [],
   "source": [
    "target = torch.tensor(df['is_laundering'].values, dtype=torch.float)"
   ]
  },
  {
   "cell_type": "code",
   "execution_count": null,
   "id": "3723e949",
   "metadata": {},
   "outputs": [],
   "source": [
    "x"
   ]
  },
  {
   "cell_type": "code",
   "execution_count": null,
   "id": "316b8960",
   "metadata": {},
   "outputs": [],
   "source": [
    "# Define the model\n",
    "input_dim = len(x[0])\n",
    "hidden_dim = 16\n",
    "model = FraudGNN(input_dim, hidden_dim)\n",
    "num_epochs=201\n",
    "\n",
    "# Define the loss function and optimizer\n",
    "criterion = nn.BCEWithLogitsLoss()\n",
    "optimizer = torch.optim.Adam(model.parameters(), lr=0.01)\n",
    "\n",
    "print(model.parameters())\n"
   ]
  },
  {
   "cell_type": "code",
   "execution_count": null,
   "id": "70715f55",
   "metadata": {},
   "outputs": [],
   "source": [
    "for i in range(num_epochs):\n",
    "    # Forward pass\n",
    "    output = model(x)\n",
    "    # Compute the loss\n",
    "    loss = criterion(output, target)\n",
    "    if i % 20 == 0:\n",
    "        print(f'Epoch: {i}, Loss: {loss.item()}')\n",
    "    # Zero the gradients\n",
    "    optimizer.zero_grad()\n",
    "    # Perform backpropagation\n",
    "    loss.backward()\n",
    "    # Update the parameters\n",
    "    optimizer.step()\n",
    "    "
   ]
  },
  {
   "cell_type": "code",
   "execution_count": null,
   "id": "7ca7be74",
   "metadata": {},
   "outputs": [],
   "source": [
    "target"
   ]
  },
  {
   "cell_type": "code",
   "execution_count": null,
   "id": "ea4ab597",
   "metadata": {},
   "outputs": [],
   "source": [
    "from train import train_model\n",
    "\n",
    "result = train_model\n",
    "print(result)"
   ]
  },
  {
   "cell_type": "code",
   "execution_count": null,
   "id": "dff251b2",
   "metadata": {},
   "outputs": [],
   "source": [
    "!pip install torchmetrics\n",
    "import torch\n",
    "from torchmetrics.classification import BinaryAccuracy, BinaryPrecision, BinaryF1Score, BinaryRecall, BinaryAUROC"
   ]
  },
  {
   "cell_type": "code",
   "execution_count": null,
   "id": "e24d23b3",
   "metadata": {},
   "outputs": [],
   "source": [
    "def evaluate_model(y_pred, y_test):\n",
    "    \"\"\"\n",
    "    Evaluate trained model performance on the y_test\n",
    "    \"\"\"\n",
    "\n",
    "    accuracy = BinaryAccuracy()\n",
    "\n",
    "    precision = BinaryPrecision()\n",
    "\n",
    "    recall = BinaryRecall()\n",
    "\n",
    "    f1 = BinaryF1Score()\n",
    "\n",
    "    auroc = BinaryAUROC()\n",
    "\n",
    "    accuracy = accuracy(y_pred, y_test)\n",
    "\n",
    "    precision = precision(y_pred, y_test)\n",
    "\n",
    "    recall = recall(y_pred, y_test)\n",
    "\n",
    "    f1 = f1(y_pred, y_test)\n",
    "\n",
    "    auroc = auroc(y_pred, y_test)\n",
    "\n",
    "\n",
    "    print(f\"✅ Model evaluated\")\n",
    "    print(f\"accuracy: {accuracy}\")\n",
    "    print(f\"precision: {precision}\")\n",
    "    print(f\"recall: {recall}\")\n",
    "    print(f\"f1: {f1}\")\n",
    "    print(f\"auroc: {auroc}\")\n",
    "\n",
    "    return (accuracy, precision, recall, f1, auroc)"
   ]
  },
  {
   "cell_type": "code",
   "execution_count": null,
   "id": "b0cc7082",
   "metadata": {},
   "outputs": [],
   "source": [
    "model.eval()"
   ]
  },
  {
   "cell_type": "code",
   "execution_count": null,
   "id": "d48db131",
   "metadata": {},
   "outputs": [],
   "source": [
    "test_data = x\n",
    "test_data"
   ]
  },
  {
   "cell_type": "code",
   "execution_count": null,
   "id": "8a489a7d",
   "metadata": {},
   "outputs": [],
   "source": [
    "# Forward pass through the model to obtain predictions\n",
    "with torch.no_grad():\n",
    "    predictions = torch.sigmoid(model(test_data))  # Apply sigmoid to obtain probabilities\n",
    "\n",
    "# Convert probabilities to binary predictions\n",
    "threshold = 0.5  # Set the threshold for classification\n",
    "binary_predictions = (predictions >= threshold).int()\n",
    "\n",
    "# Print the binary predictions\n",
    "print(binary_predictions)"
   ]
  },
  {
   "cell_type": "code",
   "execution_count": null,
   "id": "b8e68b78",
   "metadata": {},
   "outputs": [],
   "source": [
    "evaluate_model(target,binary_predictions)"
   ]
  },
  {
   "cell_type": "code",
   "execution_count": null,
   "id": "9c19687e",
   "metadata": {},
   "outputs": [],
   "source": [
    "ohe = OneHotEncoder(sparse = False)\n",
    "ohe.fit(df[['payment_format']])\n",
    "\n",
    "df[ohe.get_feature_names_out()] = ohe.transform(df[['payment_format']])\n",
    "\n",
    "ohe.fit(df[['receiving_currency']])\n",
    "df[ohe.get_feature_names_out()] = ohe.transform(df[['receiving_currency']])\n",
    "\n",
    "ohe.fit(df[['payment_currency']])\n",
    "df[ohe.get_feature_names_out()] = ohe.transform(df[['payment_currency']])\n",
    "\n",
    "\n",
    "! pip install networkx\n",
    "import networkx as nx\n",
    "G = nx.MultiGraph()\n",
    "\n",
    "# Add nodes to the graph for each unique card_id, merchant_name\n",
    "G.add_nodes_from(df[\"from_account\"].unique(), type='from_account')\n",
    "G.add_nodes_from(df[\"to_account\"].unique(), type='to_account')\n",
    "\n",
    "for _, row in df.iterrows():\n",
    "    # Create a variable for each properties for each edge\n",
    "    \n",
    "        from_bank = row['from_bank'],\n",
    "        from_account = row['from_account'],\n",
    "        to_bank = row['to_bank'],\n",
    "        to_account = row['to_account'],\n",
    "        amount_paid_USD = row['amount_paid_USD'],\n",
    "        amount_received_USD = row['amount_received_USD'],\n",
    "        month = row['month'],\n",
    "        day = row['day'],\n",
    "        hour = row['hour'],\n",
    "        minute = row['minute'],\n",
    "        payment_format_ACH = row['payment_format_ACH'],\n",
    "        payment_format_Bitcoin = row['payment_format_Bitcoin'],\n",
    "        payment_format_Cash = row['payment_format_Cash'],\n",
    "        payment_format_Cheque = row['payment_format_Cheque'],\n",
    "        payment_format_Credit = row['payment_format_Credit Card'],\n",
    "        receiving_currency_BRL = row['receiving_currency_BRL'],\n",
    "        receiving_currency_CAD = row['receiving_currency_CAD'],\n",
    "        receiving_currency_CHF = row['receiving_currency_CHF'],\n",
    "        receiving_currency_CNY = row['receiving_currency_CNY'],\n",
    "        receiving_currency_EUR = row['receiving_currency_EUR'],\n",
    "        receiving_currency_GBP = row['receiving_currency_GBP'],\n",
    "        receiving_currency_ILS = row['receiving_currency_ILS'],\n",
    "        receiving_currency_INR = row['receiving_currency_INR'],\n",
    "        receiving_currency_JPY = row['receiving_currency_JPY'],\n",
    "        receiving_currency_MXN = row['receiving_currency_MXN'],\n",
    "        receiving_currency_RUB = row['receiving_currency_RUB'],\n",
    "        receiving_currency_SAR = row['receiving_currency_SAR'],\n",
    "        receiving_currency_USD = row['receiving_currency_USD'],\n",
    "        receiving_currency_XBT = row['receiving_currency_XBT'],\n",
    "        receiving_currency_nan = row['receiving_currency_nan'],\n",
    "        payment_currency_BRL = row['payment_currency_BRL'],\n",
    "        payment_currency_CAD = row['payment_currency_CAD'],\n",
    "        payment_currency_CHF = row['payment_currency_CHF'],\n",
    "        payment_currency_CNY = row['payment_currency_CNY'],\n",
    "        payment_currency_EUR = row['payment_currency_EUR'],\n",
    "        payment_currency_GBP = row['payment_currency_GBP'],\n",
    "        payment_currency_ILS = row['payment_currency_ILS'],\n",
    "        payment_currency_INR = row['payment_currency_INR'],\n",
    "        payment_currency_JPY = row['payment_currency_JPY'],\n",
    "        payment_currency_MXN = row['payment_currency_MXN'],\n",
    "        payment_currency_RUB = row['payment_currency_RUB'],\n",
    "        payment_currency_SAR = row['payment_currency_SAR'],\n",
    "        payment_currency_USD = row['payment_currency_USD'],\n",
    "        payment_currency_XBT = row['payment_currency_XBT'],\n",
    "        payment_currency_nan = row['payment_currency_nan']\n",
    " \n",
    "        G.add_edge(row['from_account'], row['to_account'], \n",
    "            from_bank = from_bank,\n",
    "            to_bank = to_bank,\n",
    "            amount_paid_USD = amount_paid_USD,\n",
    "            amount_received_USD = amount_received_USD,\n",
    "            month = month,\n",
    "            day = day,\n",
    "            hour = hour,\n",
    "            minute = minute,\n",
    "            payment_format_ACH = payment_format_ACH,\n",
    "            payment_format_Bitcoin = payment_format_Bitcoin,\n",
    "            payment_format_Cash = payment_format_Cash,\n",
    "            payment_format_Cheque = payment_format_Cheque,\n",
    "            payment_format_Credit = payment_format_Credit,\n",
    "            receiving_currency_BRL = receiving_currency_BRL,\n",
    "            receiving_currency_CAD = receiving_currency_CAD,\n",
    "            receiving_currency_CHF = receiving_currency_CHF,\n",
    "            receiving_currency_CNY = receiving_currency_CNY,\n",
    "            receiving_currency_EUR = receiving_currency_EUR,\n",
    "            receiving_currency_GBP = receiving_currency_GBP,\n",
    "            receiving_currency_ILS = receiving_currency_ILS,\n",
    "            receiving_currency_INR = receiving_currency_INR,\n",
    "            receiving_currency_JPY = receiving_currency_JPY,\n",
    "            receiving_currency_MXN = receiving_currency_MXN,\n",
    "            receiving_currency_RUB = receiving_currency_RUB,\n",
    "            receiving_currency_SAR = receiving_currency_SAR,\n",
    "            receiving_currency_USD = receiving_currency_USD,\n",
    "            receiving_currency_XBT = receiving_currency_XBT,\n",
    "            receiving_currency_nan = receiving_currency_nan,\n",
    "            payment_currency_BRL = payment_currency_BRL,\n",
    "            payment_currency_CAD = payment_currency_CAD,\n",
    "            payment_currency_CHF = payment_currency_CHF,\n",
    "            payment_currency_CNY = payment_currency_CNY,\n",
    "            payment_currency_EUR = payment_currency_EUR,\n",
    "            payment_currency_GBP = payment_currency_GBP,\n",
    "            payment_currency_ILS = payment_currency_ILS,\n",
    "            payment_currency_INR = payment_currency_INR,\n",
    "            payment_currency_JPY = payment_currency_JPY,\n",
    "            payment_currency_MXN = payment_currency_MXN,\n",
    "            payment_currency_RUB = payment_currency_RUB,\n",
    "            payment_currency_SAR = payment_currency_SAR,\n",
    "            payment_currency_USD = payment_currency_USD,\n",
    "            payment_currency_XBT = payment_currency_XBT,\n",
    "            payment_currency_nan = payment_currency_nan)\n",
    "        \n",
    "        \n",
    "adj_matrix = nx.adjacency_matrix(G).todense()\n",
    "\n",
    "import collections\n",
    "# Retrieve the properties errors of all the edges\n",
    "edge_properties = nx.get_edge_attributes(G, 'errors')\n",
    "\n",
    "# Count the number of edges by property value\n",
    "edge_count_by_property = collections.Counter(edge_properties.values())\n",
    "\n",
    "# Print the count of edges by property value\n",
    "for property_value, count in edge_count_by_property.items():\n",
    "    print(f\"Property value: {property_value}, Count: {count}\")\n",
    "  \n",
    "  \n",
    "\n",
    "import torch\n",
    "import torch.nn as nn\n",
    "import torch.nn.functional as F\n",
    "\n",
    "class FraudGNN(nn.Module):\n",
    "    def __init__(self, input_dim, hidden_dim):\n",
    "        super(FraudGNN, self).__init__()\n",
    "        self.fc1 = nn.Linear(input_dim, hidden_dim)\n",
    "        self.fc2 = nn.Linear(hidden_dim, 1)\n",
    "        \n",
    "    def forward(self, x):\n",
    "        x = self.fc1(x)\n",
    "        x = F.relu(x)\n",
    "        x = self.fc2(x)\n",
    "        return x.squeeze(-1)\n",
    "\n",
    "# Prepare the data for input into the model\n",
    "edge_list = list(G.edges(data=True))\n",
    "x = []\n",
    "for edge in edge_list:\n",
    "    edge_values = list(edge[2].values())\n",
    "    print(edge_values)\n",
    "    edge_values = [float(i[0]) if type(i) == tuple and type(i[0]) == str else i[0] if type(i) == tuple else i for i in edge_values]\n",
    "    x.append(edge_values)\n",
    "x = torch.tensor(x, dtype=torch.float)\n",
    "\n",
    "\n",
    "target = torch.tensor(df['is_laundering'].values, dtype=torch.float)\n",
    "\n",
    "# Define the model\n",
    "input_dim = len(x[0])\n",
    "hidden_dim = 16\n",
    "model = FraudGNN(input_dim, hidden_dim)\n",
    "num_epochs=201\n",
    "\n",
    "# Define the loss function and optimizer\n",
    "criterion = nn.BCEWithLogitsLoss()\n",
    "optimizer = torch.optim.Adam(model.parameters(), lr=0.01)\n",
    "\n",
    "print(model.parameters())\n",
    "\n",
    "for i in range(num_epochs):\n",
    "    # Forward pass\n",
    "    output = model(x)\n",
    "    # Compute the loss\n",
    "    loss = criterion(output, target)\n",
    "    if i % 20 == 0:\n",
    "        print(f'Epoch: {i}, Loss: {loss.item()}')\n",
    "    # Zero the gradients\n",
    "    optimizer.zero_grad()\n",
    "    # Perform backpropagation\n",
    "    loss.backward()\n",
    "    # Update the parameters\n",
    "    optimizer.step()\n",
    "    \n"
   ]
  }
 ],
 "metadata": {
  "kernelspec": {
   "display_name": "Python 3 (ipykernel)",
   "language": "python",
   "name": "python3"
  },
  "language_info": {
   "codemirror_mode": {
    "name": "ipython",
    "version": 3
   },
   "file_extension": ".py",
   "mimetype": "text/x-python",
   "name": "python",
   "nbconvert_exporter": "python",
   "pygments_lexer": "ipython3",
   "version": "3.10.6"
  }
 },
 "nbformat": 4,
 "nbformat_minor": 5
}
