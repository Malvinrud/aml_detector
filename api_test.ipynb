{
 "cells": [
  {
   "cell_type": "code",
   "execution_count": 5,
   "metadata": {},
   "outputs": [],
   "source": [
    "import requests"
   ]
  },
  {
   "cell_type": "code",
   "execution_count": 10,
   "metadata": {},
   "outputs": [],
   "source": [
    "# Exchange rate data api key\n",
    "api_key = \"RPKnKVqfveUOzhUR9Ir8Nqq6HA5DI0md\"\n",
    "\n",
    "# Arbitrary date to fetch the exchange rates\n",
    "date = \"2022-09-30\"\n",
    "\n",
    "# The list of currency codes to fetch the exchange rates\n",
    "currency_codes = [\"GBP\", \"EUR\", \"AUD\", \"BTC\", \"BRL\", \"CAD\", \"MXN\", \"RUB\", \"INR\", \"SAR\", \"ILS\", \"CHF\", \"JPY\", \"CNY\"]\n",
    "\n",
    "url = f\"https://api.apilayer.com/exchangerates_data/{date}?symbols={','.join(currency_codes)}&base=USD\"\n",
    "\n",
    "# Define the headers\n",
    "headers = {\"apikey\": api_key}\n",
    "\n",
    "# Send a GET request to the API\n",
    "response = requests.get(url, headers=headers)\n",
    "\n",
    "# Convert the response to JSON\n",
    "data = response.json()"
   ]
  },
  {
   "cell_type": "code",
   "execution_count": 11,
   "metadata": {},
   "outputs": [
    {
     "data": {
      "text/plain": [
       "{'success': True,\n",
       " 'timestamp': 1664582399,\n",
       " 'historical': True,\n",
       " 'base': 'USD',\n",
       " 'date': '2022-09-30',\n",
       " 'rates': {'GBP': 0.896861,\n",
       "  'EUR': 1.01991,\n",
       "  'AUD': 1.561524,\n",
       "  'BTC': 5.1467053e-05,\n",
       "  'BRL': 5.412471,\n",
       "  'CAD': 1.38327,\n",
       "  'MXN': 20.14615,\n",
       "  'RUB': 60.20369,\n",
       "  'INR': 81.638404,\n",
       "  'SAR': 3.756801,\n",
       "  'ILS': 3.55854,\n",
       "  'CHF': 0.987171,\n",
       "  'JPY': 144.73904,\n",
       "  'CNY': 7.116041}}"
      ]
     },
     "execution_count": 11,
     "metadata": {},
     "output_type": "execute_result"
    }
   ],
   "source": [
    "data"
   ]
  },
  {
   "cell_type": "code",
   "execution_count": null,
   "metadata": {},
   "outputs": [],
   "source": []
  }
 ],
 "metadata": {
  "kernelspec": {
   "display_name": "aml_detector",
   "language": "python",
   "name": "python3"
  },
  "language_info": {
   "codemirror_mode": {
    "name": "ipython",
    "version": 3
   },
   "file_extension": ".py",
   "mimetype": "text/x-python",
   "name": "python",
   "nbconvert_exporter": "python",
   "pygments_lexer": "ipython3",
   "version": "3.10.6"
  },
  "orig_nbformat": 4
 },
 "nbformat": 4,
 "nbformat_minor": 2
}
