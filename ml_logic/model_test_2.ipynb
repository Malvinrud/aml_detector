{
 "cells": [
  {
   "cell_type": "code",
   "execution_count": 1,
   "metadata": {},
   "outputs": [],
   "source": [
    "from data import * \n",
    "import pandas as pd "
   ]
  },
  {
   "cell_type": "code",
   "execution_count": 2,
   "metadata": {},
   "outputs": [
    {
     "data": {
      "text/html": [
       "<div>\n",
       "<style scoped>\n",
       "    .dataframe tbody tr th:only-of-type {\n",
       "        vertical-align: middle;\n",
       "    }\n",
       "\n",
       "    .dataframe tbody tr th {\n",
       "        vertical-align: top;\n",
       "    }\n",
       "\n",
       "    .dataframe thead th {\n",
       "        text-align: right;\n",
       "    }\n",
       "</style>\n",
       "<table border=\"1\" class=\"dataframe\">\n",
       "  <thead>\n",
       "    <tr style=\"text-align: right;\">\n",
       "      <th></th>\n",
       "      <th>Timestamp</th>\n",
       "      <th>From Bank</th>\n",
       "      <th>Account</th>\n",
       "      <th>To Bank</th>\n",
       "      <th>Account.1</th>\n",
       "      <th>Amount Received</th>\n",
       "      <th>Receiving Currency</th>\n",
       "      <th>Amount Paid</th>\n",
       "      <th>Payment Currency</th>\n",
       "      <th>Payment Format</th>\n",
       "      <th>Is Laundering</th>\n",
       "    </tr>\n",
       "  </thead>\n",
       "  <tbody>\n",
       "    <tr>\n",
       "      <th>0</th>\n",
       "      <td>2022/09/01 00:08</td>\n",
       "      <td>11</td>\n",
       "      <td>8000ECA90</td>\n",
       "      <td>11</td>\n",
       "      <td>8000ECA90</td>\n",
       "      <td>3195403.0</td>\n",
       "      <td>US Dollar</td>\n",
       "      <td>3195403.0</td>\n",
       "      <td>US Dollar</td>\n",
       "      <td>Reinvestment</td>\n",
       "      <td>0</td>\n",
       "    </tr>\n",
       "    <tr>\n",
       "      <th>1</th>\n",
       "      <td>2022/09/01 10:18</td>\n",
       "      <td>11</td>\n",
       "      <td>123456789</td>\n",
       "      <td>999</td>\n",
       "      <td>234567890</td>\n",
       "      <td>3.0</td>\n",
       "      <td>Euro</td>\n",
       "      <td>400.0</td>\n",
       "      <td>US Dollar</td>\n",
       "      <td>Cash</td>\n",
       "      <td>1</td>\n",
       "    </tr>\n",
       "    <tr>\n",
       "      <th>2</th>\n",
       "      <td>2022/09/31 10:18</td>\n",
       "      <td>866</td>\n",
       "      <td>345678901</td>\n",
       "      <td>998</td>\n",
       "      <td>456</td>\n",
       "      <td>99.0</td>\n",
       "      <td>Bitcoin</td>\n",
       "      <td>430.0</td>\n",
       "      <td>US Dollar</td>\n",
       "      <td>Cash</td>\n",
       "      <td>1</td>\n",
       "    </tr>\n",
       "    <tr>\n",
       "      <th>3</th>\n",
       "      <td>2022/09/02 13:20</td>\n",
       "      <td>123</td>\n",
       "      <td>567890123</td>\n",
       "      <td>998</td>\n",
       "      <td>678901234</td>\n",
       "      <td>99.0</td>\n",
       "      <td>Bitcoin</td>\n",
       "      <td>430.0</td>\n",
       "      <td>US Dollar</td>\n",
       "      <td>Cash</td>\n",
       "      <td>0</td>\n",
       "    </tr>\n",
       "  </tbody>\n",
       "</table>\n",
       "</div>"
      ],
      "text/plain": [
       "          Timestamp  From Bank    Account  To Bank  Account.1   \n",
       "0  2022/09/01 00:08         11  8000ECA90       11  8000ECA90  \\\n",
       "1  2022/09/01 10:18         11  123456789      999  234567890   \n",
       "2  2022/09/31 10:18        866  345678901      998        456   \n",
       "3  2022/09/02 13:20        123  567890123      998  678901234   \n",
       "\n",
       "   Amount Received Receiving Currency  Amount Paid Payment Currency   \n",
       "0        3195403.0          US Dollar    3195403.0        US Dollar  \\\n",
       "1              3.0               Euro        400.0        US Dollar   \n",
       "2             99.0            Bitcoin        430.0        US Dollar   \n",
       "3             99.0            Bitcoin        430.0        US Dollar   \n",
       "\n",
       "  Payment Format  Is Laundering  \n",
       "0   Reinvestment              0  \n",
       "1           Cash              1  \n",
       "2           Cash              1  \n",
       "3           Cash              0  "
      ]
     },
     "execution_count": 2,
     "metadata": {},
     "output_type": "execute_result"
    }
   ],
   "source": [
    "df= pd.read_csv('/Users/ludwingmoncadabellorin/Downloads/FORGED_DATA_PREDICTcsv.csv')\n",
    "df.head(20)"
   ]
  },
  {
   "cell_type": "code",
   "execution_count": 3,
   "metadata": {},
   "outputs": [
    {
     "name": "stdout",
     "output_type": "stream",
     "text": [
      "✅ data cleaned\n"
     ]
    }
   ],
   "source": [
    "df = clean_data(df)"
   ]
  },
  {
   "cell_type": "code",
   "execution_count": 4,
   "metadata": {},
   "outputs": [
    {
     "data": {
      "text/html": [
       "<div>\n",
       "<style scoped>\n",
       "    .dataframe tbody tr th:only-of-type {\n",
       "        vertical-align: middle;\n",
       "    }\n",
       "\n",
       "    .dataframe tbody tr th {\n",
       "        vertical-align: top;\n",
       "    }\n",
       "\n",
       "    .dataframe thead th {\n",
       "        text-align: right;\n",
       "    }\n",
       "</style>\n",
       "<table border=\"1\" class=\"dataframe\">\n",
       "  <thead>\n",
       "    <tr style=\"text-align: right;\">\n",
       "      <th></th>\n",
       "      <th>from_bank</th>\n",
       "      <th>from_account</th>\n",
       "      <th>to_bank</th>\n",
       "      <th>to_account</th>\n",
       "      <th>receiving_currency</th>\n",
       "      <th>payment_currency</th>\n",
       "      <th>payment_format</th>\n",
       "      <th>is_laundering</th>\n",
       "      <th>amount_paid_USD</th>\n",
       "      <th>amount_received_USD</th>\n",
       "      <th>month</th>\n",
       "      <th>day</th>\n",
       "      <th>hour</th>\n",
       "      <th>minute</th>\n",
       "    </tr>\n",
       "  </thead>\n",
       "  <tbody>\n",
       "    <tr>\n",
       "      <th>0</th>\n",
       "      <td>11</td>\n",
       "      <td>123456789</td>\n",
       "      <td>999</td>\n",
       "      <td>234567890</td>\n",
       "      <td>EUR</td>\n",
       "      <td>USD</td>\n",
       "      <td>Cash</td>\n",
       "      <td>1</td>\n",
       "      <td>400.0</td>\n",
       "      <td>3.0</td>\n",
       "      <td>9.0</td>\n",
       "      <td>1.0</td>\n",
       "      <td>10.0</td>\n",
       "      <td>18.0</td>\n",
       "    </tr>\n",
       "    <tr>\n",
       "      <th>1</th>\n",
       "      <td>866</td>\n",
       "      <td>345678901</td>\n",
       "      <td>998</td>\n",
       "      <td>456</td>\n",
       "      <td>XBT</td>\n",
       "      <td>USD</td>\n",
       "      <td>Cash</td>\n",
       "      <td>1</td>\n",
       "      <td>430.0</td>\n",
       "      <td>99.0</td>\n",
       "      <td>NaN</td>\n",
       "      <td>NaN</td>\n",
       "      <td>NaN</td>\n",
       "      <td>NaN</td>\n",
       "    </tr>\n",
       "    <tr>\n",
       "      <th>2</th>\n",
       "      <td>123</td>\n",
       "      <td>567890123</td>\n",
       "      <td>998</td>\n",
       "      <td>678901234</td>\n",
       "      <td>XBT</td>\n",
       "      <td>USD</td>\n",
       "      <td>Cash</td>\n",
       "      <td>0</td>\n",
       "      <td>430.0</td>\n",
       "      <td>99.0</td>\n",
       "      <td>9.0</td>\n",
       "      <td>2.0</td>\n",
       "      <td>13.0</td>\n",
       "      <td>20.0</td>\n",
       "    </tr>\n",
       "  </tbody>\n",
       "</table>\n",
       "</div>"
      ],
      "text/plain": [
       "   from_bank from_account  to_bank to_account receiving_currency   \n",
       "0         11    123456789      999  234567890                EUR  \\\n",
       "1        866    345678901      998        456                XBT   \n",
       "2        123    567890123      998  678901234                XBT   \n",
       "\n",
       "  payment_currency payment_format  is_laundering  amount_paid_USD   \n",
       "0              USD           Cash              1            400.0  \\\n",
       "1              USD           Cash              1            430.0   \n",
       "2              USD           Cash              0            430.0   \n",
       "\n",
       "   amount_received_USD  month  day  hour  minute  \n",
       "0                  3.0    9.0  1.0  10.0    18.0  \n",
       "1                 99.0    NaN  NaN   NaN     NaN  \n",
       "2                 99.0    9.0  2.0  13.0    20.0  "
      ]
     },
     "execution_count": 4,
     "metadata": {},
     "output_type": "execute_result"
    }
   ],
   "source": [
    "df.head()"
   ]
  },
  {
   "cell_type": "code",
   "execution_count": 5,
   "metadata": {},
   "outputs": [
    {
     "name": "stdout",
     "output_type": "stream",
     "text": [
      "✅ data One-Hot-Encoded\n"
     ]
    },
    {
     "name": "stderr",
     "output_type": "stream",
     "text": [
      "/Users/ludwingmoncadabellorin/.pyenv/versions/3.10.6/envs/aml_detector/lib/python3.10/site-packages/sklearn/preprocessing/_encoders.py:868: FutureWarning: `sparse` was renamed to `sparse_output` in version 1.2 and will be removed in 1.4. `sparse_output` is ignored unless you leave `sparse` to its default value.\n",
      "  warnings.warn(\n",
      "/Users/ludwingmoncadabellorin/.pyenv/versions/3.10.6/envs/aml_detector/lib/python3.10/site-packages/sklearn/preprocessing/_encoders.py:868: FutureWarning: `sparse` was renamed to `sparse_output` in version 1.2 and will be removed in 1.4. `sparse_output` is ignored unless you leave `sparse` to its default value.\n",
      "  warnings.warn(\n",
      "/Users/ludwingmoncadabellorin/.pyenv/versions/3.10.6/envs/aml_detector/lib/python3.10/site-packages/sklearn/preprocessing/_encoders.py:868: FutureWarning: `sparse` was renamed to `sparse_output` in version 1.2 and will be removed in 1.4. `sparse_output` is ignored unless you leave `sparse` to its default value.\n",
      "  warnings.warn(\n"
     ]
    }
   ],
   "source": [
    "from preprocessor import preprocess_features\n",
    "df = preprocess_features(df)"
   ]
  },
  {
   "cell_type": "code",
   "execution_count": 7,
   "metadata": {},
   "outputs": [
    {
     "name": "stdout",
     "output_type": "stream",
     "text": [
      "✅ Number of nodes: 6\n",
      "✅ Number of edges: 3\n"
     ]
    }
   ],
   "source": [
    "from edges_nodes2 import create_nodes_edges\n",
    "G = create_nodes_edges(df)"
   ]
  }
 ],
 "metadata": {
  "kernelspec": {
   "display_name": "aml_detector",
   "language": "python",
   "name": "python3"
  },
  "language_info": {
   "codemirror_mode": {
    "name": "ipython",
    "version": 3
   },
   "file_extension": ".py",
   "mimetype": "text/x-python",
   "name": "python",
   "nbconvert_exporter": "python",
   "pygments_lexer": "ipython3",
   "version": "3.10.6"
  },
  "orig_nbformat": 4
 },
 "nbformat": 4,
 "nbformat_minor": 2
}
