{
 "cells": [
  {
   "cell_type": "code",
   "execution_count": 26,
   "metadata": {},
   "outputs": [],
   "source": [
    "import torch\n",
    "from torchmetrics.classification import BinaryAccuracy, BinaryPrecision, BinaryF1Score, BinaryRecall, BinaryAUROC"
   ]
  },
  {
   "cell_type": "code",
   "execution_count": 27,
   "metadata": {},
   "outputs": [
    {
     "data": {
      "text/plain": [
       "tensor(0.5000)"
      ]
     },
     "execution_count": 27,
     "metadata": {},
     "output_type": "execute_result"
    }
   ],
   "source": [
    "preds  = torch.tensor([0, 0, 1, 1])\n",
    "target = torch.tensor([1, 1, 1, 0])\n",
    "precision = BinaryPrecision()\n",
    "precision(preds, target)"
   ]
  },
  {
   "cell_type": "code",
   "execution_count": 28,
   "metadata": {},
   "outputs": [
    {
     "data": {
      "text/plain": [
       "tensor(0.1667)"
      ]
     },
     "execution_count": 28,
     "metadata": {},
     "output_type": "execute_result"
    }
   ],
   "source": [
    "auroc = BinaryAUROC()\n",
    "auroc(preds, target)"
   ]
  },
  {
   "cell_type": "code",
   "execution_count": 31,
   "metadata": {},
   "outputs": [],
   "source": [
    "def evaluate_model(y_pred, y_test):\n",
    "    \"\"\"\n",
    "    Evaluate trained model performance on the y_test\n",
    "    \"\"\"\n",
    "\n",
    "    accuracy = BinaryAccuracy()\n",
    "\n",
    "    precision = BinaryPrecision()\n",
    "\n",
    "    recall = BinaryRecall()\n",
    "\n",
    "    f1 = BinaryF1Score()\n",
    "\n",
    "    auroc = BinaryAUROC()\n",
    "\n",
    "    accuracy = accuracy(y_pred, y_test)\n",
    "\n",
    "    precision = precision(y_pred, y_test)\n",
    "\n",
    "    recall = recall(y_pred, y_test)\n",
    "\n",
    "    f1 = f1(y_pred, y_test)\n",
    "\n",
    "    auroc = auroc(y_pred, y_test)\n",
    "\n",
    "\n",
    "    print(f\"✅ Model evaluated\")\n",
    "    print(f\"accuracy: {accuracy}\")\n",
    "    print(f\"precision: {precision}\")\n",
    "    print(f\"recall: {recall}\")\n",
    "    print(f\"f1: {f1}\")\n",
    "    print(f\"auroc: {auroc}\")\n",
    "\n",
    "    return (accuracy, precision, recall, f1, auroc)"
   ]
  },
  {
   "cell_type": "code",
   "execution_count": 32,
   "metadata": {},
   "outputs": [
    {
     "name": "stdout",
     "output_type": "stream",
     "text": [
      "✅ Model evaluated\n",
      "accuracy: 0.25\n",
      "precision: 0.5\n",
      "recall: 0.3333333432674408\n",
      "f1: 0.4000000059604645\n",
      "auroc: 0.1666666716337204\n"
     ]
    },
    {
     "data": {
      "text/plain": [
       "(tensor(0.2500),\n",
       " tensor(0.5000),\n",
       " tensor(0.3333),\n",
       " tensor(0.4000),\n",
       " tensor(0.1667))"
      ]
     },
     "execution_count": 32,
     "metadata": {},
     "output_type": "execute_result"
    }
   ],
   "source": [
    "evaluate_model(preds, target)"
   ]
  },
  {
   "cell_type": "code",
   "execution_count": null,
   "metadata": {},
   "outputs": [],
   "source": []
  }
 ],
 "metadata": {
  "kernelspec": {
   "display_name": "aml_detector",
   "language": "python",
   "name": "python3"
  },
  "language_info": {
   "codemirror_mode": {
    "name": "ipython",
    "version": 3
   },
   "file_extension": ".py",
   "mimetype": "text/x-python",
   "name": "python",
   "nbconvert_exporter": "python",
   "pygments_lexer": "ipython3",
   "version": "3.10.6"
  },
  "orig_nbformat": 4
 },
 "nbformat": 4,
 "nbformat_minor": 2
}
