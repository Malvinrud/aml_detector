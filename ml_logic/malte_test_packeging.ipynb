{
 "cells": [
  {
   "cell_type": "code",
   "execution_count": null,
   "metadata": {},
   "outputs": [],
   "source": [
    "from data import * \n",
    "df = get_data_local()\n",
    "df = clean_data(df)\n",
    "df = data_reduction(df) #cant use for test"
   ]
  },
  {
   "cell_type": "code",
   "execution_count": null,
   "metadata": {},
   "outputs": [],
   "source": [
    "from preprocessor import preprocess_features\n",
    "\n",
    "df = preprocess_features(df) "
   ]
  },
  {
   "cell_type": "code",
   "execution_count": null,
   "metadata": {},
   "outputs": [],
   "source": [
    "from edges_nodes import create_nodes_edges\n",
    "\n",
    "G = create_nodes_edges(df) \n",
    "#in testing error is created if currecny is missing"
   ]
  },
  {
   "cell_type": "code",
   "execution_count": null,
   "metadata": {},
   "outputs": [],
   "source": [
    "import torch\n",
    "import torch.nn as nn\n",
    "import torch.nn.functional as F\n",
    "\n",
    "from model import FraudGNN\n",
    "from model import model_data\n",
    "from model import train_test\n",
    "\n",
    "x, target = model_data(G, df)\n",
    "x, test_x, target, test_target = train_test(x, target)\n"
   ]
  },
  {
   "cell_type": "code",
   "execution_count": null,
   "metadata": {},
   "outputs": [],
   "source": [
    "from train import train_model\n",
    "\n",
    "optimizer, model, target = train_model(FraudGNN, x, target)\n"
   ]
  },
  {
   "cell_type": "code",
   "execution_count": null,
   "metadata": {},
   "outputs": [],
   "source": [
    "from evaluate import predict\n",
    "from evaluate import evaluate_model\n",
    "\n",
    "binary_predictions = predict(model,test_x)\n",
    "\n",
    "result = evaluate_model(test_target, binary_predictions)\n",
    "\n",
    "print (result[0].item())"
   ]
  },
  {
   "cell_type": "code",
   "execution_count": null,
   "metadata": {},
   "outputs": [],
   "source": [
    "binary_predictions"
   ]
  },
  {
   "cell_type": "code",
   "execution_count": null,
   "metadata": {},
   "outputs": [],
   "source": []
  }
 ],
 "metadata": {
  "kernelspec": {
   "display_name": "aml_detector",
   "language": "python",
   "name": "python3"
  },
  "language_info": {
   "codemirror_mode": {
    "name": "ipython",
    "version": 3
   },
   "file_extension": ".py",
   "mimetype": "text/x-python",
   "name": "python",
   "nbconvert_exporter": "python",
   "pygments_lexer": "ipython3",
   "version": "3.10.6"
  },
  "orig_nbformat": 4
 },
 "nbformat": 4,
 "nbformat_minor": 2
}
