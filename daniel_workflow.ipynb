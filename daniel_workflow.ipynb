{
 "cells": [
  {
   "cell_type": "code",
   "execution_count": 13,
   "metadata": {},
   "outputs": [],
   "source": [
    "from ml_logic.worklfow import *\n",
    "from ml_logic.data import *\n",
    "from ml_logic.evaluate import *"
   ]
  },
  {
   "cell_type": "code",
   "execution_count": 14,
   "metadata": {},
   "outputs": [
    {
     "name": "stdout",
     "output_type": "stream",
     "text": [
      "✅ data received\n",
      "{'success': True, 'timestamp': 1664582399, 'historical': True, 'base': 'USD', 'date': '2022-09-30', 'rates': {'GBP': 0.896861, 'EUR': 1.01991, 'AUD': 1.561524, 'BTC': 5.1467053e-05, 'BRL': 5.412471, 'CAD': 1.38327, 'MXN': 20.14615, 'RUB': 60.20369, 'INR': 81.638404, 'SAR': 3.756801, 'ILS': 3.55854, 'CHF': 0.987171, 'JPY': 144.73904, 'CNY': 7.116041}}\n",
      "✅ data cleaned\n",
      "✅ randomly removed 28762393 non-fraudulent rows from the data frame.\n"
     ]
    }
   ],
   "source": [
    "df = get_data_local(size=\"Medium\", fraud=\"HI\")\n",
    "\n",
    "df = clean_data(df)\n",
    "\n",
    "df = data_reduction(df, 0.5)\n",
    "\n",
    "########################### OR ###########################\n",
    "\n",
    "# size=\"Large\"\n",
    "# fraud=\"HI\"\n",
    "\n",
    "# file = f'raw_data/{fraud}-{size}_Trans.csv'\n",
    "\n",
    "# chunksize = 30_000_000  # Adjust this value according to your memory constraints\n",
    "\n",
    "# processed_chunks = []\n",
    "\n",
    "# def process_chunk(chunk):\n",
    "#     # Perform your operations on the chunk DataFrame\n",
    "#     chunk = clean_data(chunk)\n",
    "\n",
    "#     chunk = data_reduction(chunk, 0.5)\n",
    "    \n",
    "#     # Return the processed chunk\n",
    "#     return chunk\n",
    "\n",
    "# # Iterate over the chunks of the CSV file\n",
    "# for chunk in pd.read_csv(file, chunksize=chunksize):\n",
    "#     # Process the chunk using your function\n",
    "#     processed_chunk = process_chunk(chunk)\n",
    "    \n",
    "#     # Append the processed chunk to the list\n",
    "#     processed_chunks.append(processed_chunk)\n",
    "\n",
    "# # Concatenate the list of processed chunks into a single DataFrame\n",
    "# df = pd.concat(processed_chunks, ignore_index=True)\n",
    "\n",
    "########################### THEN ###########################\n",
    "\n",
    "\n",
    "y = df[\"is_laundering\"]\n",
    "\n",
    "X = df.drop([\"is_laundering\"], axis=1)\n",
    "\n",
    "X, X_test, y, y_test = train_test_split(X, y, test_size=0.2)"
   ]
  },
  {
   "cell_type": "code",
   "execution_count": 15,
   "metadata": {},
   "outputs": [
    {
     "data": {
      "text/plain": [
       "56368"
      ]
     },
     "execution_count": 15,
     "metadata": {},
     "output_type": "execute_result"
    }
   ],
   "source": [
    "len(y)"
   ]
  },
  {
   "cell_type": "code",
   "execution_count": 16,
   "metadata": {},
   "outputs": [
    {
     "name": "stderr",
     "output_type": "stream",
     "text": [
      "/Users/Daniel/.pyenv/versions/3.10.6/envs/aml_detector/lib/python3.10/site-packages/sklearn/preprocessing/_encoders.py:868: FutureWarning: `sparse` was renamed to `sparse_output` in version 1.2 and will be removed in 1.4. `sparse_output` is ignored unless you leave `sparse` to its default value.\n",
      "  warnings.warn(\n",
      "/Users/Daniel/.pyenv/versions/3.10.6/envs/aml_detector/lib/python3.10/site-packages/sklearn/preprocessing/_encoders.py:868: FutureWarning: `sparse` was renamed to `sparse_output` in version 1.2 and will be removed in 1.4. `sparse_output` is ignored unless you leave `sparse` to its default value.\n",
      "  warnings.warn(\n",
      "/Users/Daniel/.pyenv/versions/3.10.6/envs/aml_detector/lib/python3.10/site-packages/sklearn/preprocessing/_encoders.py:868: FutureWarning: `sparse` was renamed to `sparse_output` in version 1.2 and will be removed in 1.4. `sparse_output` is ignored unless you leave `sparse` to its default value.\n",
      "  warnings.warn(\n",
      "/Users/Daniel/.pyenv/versions/3.10.6/envs/aml_detector/lib/python3.10/site-packages/sklearn/preprocessing/_encoders.py:868: FutureWarning: `sparse` was renamed to `sparse_output` in version 1.2 and will be removed in 1.4. `sparse_output` is ignored unless you leave `sparse` to its default value.\n",
      "  warnings.warn(\n",
      "/Users/Daniel/.pyenv/versions/3.10.6/envs/aml_detector/lib/python3.10/site-packages/sklearn/preprocessing/_encoders.py:868: FutureWarning: `sparse` was renamed to `sparse_output` in version 1.2 and will be removed in 1.4. `sparse_output` is ignored unless you leave `sparse` to its default value.\n",
      "  warnings.warn(\n",
      "/Users/Daniel/.pyenv/versions/3.10.6/envs/aml_detector/lib/python3.10/site-packages/sklearn/preprocessing/_encoders.py:868: FutureWarning: `sparse` was renamed to `sparse_output` in version 1.2 and will be removed in 1.4. `sparse_output` is ignored unless you leave `sparse` to its default value.\n",
      "  warnings.warn(\n"
     ]
    },
    {
     "name": "stdout",
     "output_type": "stream",
     "text": [
      "✅ data One-Hot-Encoded\n",
      "✅ data One-Hot-Encoded\n",
      "✅ Number of nodes: 88091\n",
      "✅ Number of edges: 56368\n",
      "✅ Number of nodes: 24415\n",
      "✅ Number of edges: 14092\n",
      "✅ x created\n",
      "✅ target created\n",
      "✅ x created\n",
      "✅ target created\n",
      "Epoch: 0, Loss: 87926576.0\n",
      "Epoch: 20, Loss: 2550878.25\n",
      "Epoch: 40, Loss: 2560598.75\n",
      "Epoch: 60, Loss: 1283847.5\n",
      "Epoch: 80, Loss: 979164.25\n",
      "Epoch: 100, Loss: 5435630.5\n",
      "Epoch: 120, Loss: 2657549.75\n",
      "Epoch: 140, Loss: 347709.0625\n",
      "Epoch: 160, Loss: 259537.609375\n",
      "Epoch: 180, Loss: 44161.42578125\n",
      "Epoch: 200, Loss: 709856.875\n"
     ]
    }
   ],
   "source": [
    "model, X_test_tensor, y_test_tensor = model_workflow(X, X_test, y, y_test)"
   ]
  },
  {
   "cell_type": "code",
   "execution_count": 17,
   "metadata": {},
   "outputs": [],
   "source": [
    "y_pred = predict(model, X_test_tensor)"
   ]
  },
  {
   "cell_type": "code",
   "execution_count": 18,
   "metadata": {},
   "outputs": [
    {
     "name": "stdout",
     "output_type": "stream",
     "text": [
      "✅ Model evaluated\n",
      "accuracy: 0.4946068823337555\n",
      "precision: 0.4920273423194885\n",
      "recall: 0.5243467092514038\n",
      "f1: 0.5076731443405151\n",
      "auroc: 0.4947872757911682\n"
     ]
    },
    {
     "data": {
      "text/plain": [
       "(tensor(0.4946),\n",
       " tensor(0.4920),\n",
       " tensor(0.5243),\n",
       " tensor(0.5077),\n",
       " tensor(0.4948))"
      ]
     },
     "execution_count": 18,
     "metadata": {},
     "output_type": "execute_result"
    }
   ],
   "source": [
    "evaluate_model(y_pred, y_test_tensor)"
   ]
  },
  {
   "cell_type": "code",
   "execution_count": null,
   "metadata": {},
   "outputs": [],
   "source": []
  }
 ],
 "metadata": {
  "kernelspec": {
   "display_name": "aml_detector",
   "language": "python",
   "name": "python3"
  },
  "language_info": {
   "codemirror_mode": {
    "name": "ipython",
    "version": 3
   },
   "file_extension": ".py",
   "mimetype": "text/x-python",
   "name": "python",
   "nbconvert_exporter": "python",
   "pygments_lexer": "ipython3",
   "version": "3.10.6"
  },
  "orig_nbformat": 4
 },
 "nbformat": 4,
 "nbformat_minor": 2
}
