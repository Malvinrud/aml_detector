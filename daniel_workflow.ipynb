{
 "cells": [
  {
   "cell_type": "code",
   "execution_count": 1,
   "metadata": {},
   "outputs": [],
   "source": [
    "from ml_logic.worklfow import *\n",
    "from ml_logic.data import *\n",
    "from ml_logic.evaluate import *"
   ]
  },
  {
   "cell_type": "code",
   "execution_count": 3,
   "metadata": {},
   "outputs": [
    {
     "name": "stdout",
     "output_type": "stream",
     "text": [
      "✅ data received\n"
     ]
    },
    {
     "ename": "KeyError",
     "evalue": "'rates'",
     "output_type": "error",
     "traceback": [
      "\u001b[0;31m---------------------------------------------------------------------------\u001b[0m",
      "\u001b[0;31mKeyError\u001b[0m                                  Traceback (most recent call last)",
      "Cell \u001b[0;32mIn[3], line 3\u001b[0m\n\u001b[1;32m      1\u001b[0m df \u001b[39m=\u001b[39m get_data_local(size\u001b[39m=\u001b[39m\u001b[39m\"\u001b[39m\u001b[39mSmall\u001b[39m\u001b[39m\"\u001b[39m, fraud\u001b[39m=\u001b[39m\u001b[39m\"\u001b[39m\u001b[39mHI\u001b[39m\u001b[39m\"\u001b[39m)\n\u001b[0;32m----> 3\u001b[0m df \u001b[39m=\u001b[39m clean_data(df)\n\u001b[1;32m      5\u001b[0m df \u001b[39m=\u001b[39m data_reduction(df, \u001b[39m0.5\u001b[39m)\n\u001b[1;32m      7\u001b[0m \u001b[39m########################### OR ###########################\u001b[39;00m\n\u001b[1;32m      8\u001b[0m \n\u001b[1;32m      9\u001b[0m \u001b[39m# size=\"Medium\"\u001b[39;00m\n\u001b[0;32m   (...)\u001b[0m\n\u001b[1;32m     37\u001b[0m \n\u001b[1;32m     38\u001b[0m \u001b[39m########################### THEN ###########################\u001b[39;00m\n",
      "File \u001b[0;32m~/code/Malvinrud/aml_detector/ml_logic/data.py:100\u001b[0m, in \u001b[0;36mclean_data\u001b[0;34m(df)\u001b[0m\n\u001b[1;32m     97\u001b[0m data \u001b[39m=\u001b[39m response\u001b[39m.\u001b[39mjson()\n\u001b[1;32m     99\u001b[0m \u001b[39m# Create a DataFrame from the rates\u001b[39;00m\n\u001b[0;32m--> 100\u001b[0m df_rates \u001b[39m=\u001b[39m pd\u001b[39m.\u001b[39mDataFrame(data[\u001b[39m'\u001b[39;49m\u001b[39mrates\u001b[39;49m\u001b[39m'\u001b[39;49m]\u001b[39m.\u001b[39mitems(), columns\u001b[39m=\u001b[39m[\u001b[39m'\u001b[39m\u001b[39mcurrency_code\u001b[39m\u001b[39m'\u001b[39m, \u001b[39m'\u001b[39m\u001b[39mrate\u001b[39m\u001b[39m'\u001b[39m])\n\u001b[1;32m    102\u001b[0m \u001b[39m# Merge df with df_rates on 'Currency Code', preserving all rows from df and filling in NaN for missing match\u001b[39;00m\n\u001b[1;32m    103\u001b[0m df \u001b[39m=\u001b[39m df\u001b[39m.\u001b[39mmerge(df_rates, on\u001b[39m=\u001b[39m\u001b[39m'\u001b[39m\u001b[39mcurrency_code\u001b[39m\u001b[39m'\u001b[39m, how\u001b[39m=\u001b[39m\u001b[39m'\u001b[39m\u001b[39mleft\u001b[39m\u001b[39m'\u001b[39m)\n",
      "\u001b[0;31mKeyError\u001b[0m: 'rates'"
     ]
    }
   ],
   "source": [
    "df = get_data_local(size=\"Small\", fraud=\"HI\")\n",
    "\n",
    "df = clean_data(df)\n",
    "\n",
    "df = data_reduction(df, 0.5)\n",
    "\n",
    "########################### OR ###########################\n",
    "\n",
    "# size=\"Medium\"\n",
    "# fraud=\"HI\"\n",
    "\n",
    "# file = f'raw_data/{fraud}-{size}_Trans.csv'\n",
    "\n",
    "# chunksize = 30_000_000  # Adjust this value according to your memory constraints\n",
    "\n",
    "# processed_chunks = []\n",
    "\n",
    "# def process_chunk(chunk):\n",
    "#     # Perform your operations on the chunk DataFrame\n",
    "#     chunk = clean_data(chunk)\n",
    "\n",
    "#     chunk = data_reduction(chunk, 0.5)\n",
    "    \n",
    "#     # Return the processed chunk\n",
    "#     return chunk\n",
    "\n",
    "# # Iterate over the chunks of the CSV file\n",
    "# for chunk in pd.read_csv(file, chunksize=chunksize):\n",
    "#     # Process the chunk using your function\n",
    "#     processed_chunk = process_chunk(chunk)\n",
    "    \n",
    "#     # Append the processed chunk to the list\n",
    "#     processed_chunks.append(processed_chunk)\n",
    "\n",
    "# # Concatenate the list of processed chunks into a single DataFrame\n",
    "# df = pd.concat(processed_chunks, ignore_index=True)\n",
    "\n",
    "########################### THEN ###########################\n",
    "\n",
    "\n",
    "y = df[\"is_laundering\"]\n",
    "\n",
    "X = df.drop([\"is_laundering\"], axis=1)\n",
    "\n",
    "X, X_test, y, y_test = train_test_split(X, y, test_size=0.2)"
   ]
  },
  {
   "cell_type": "code",
   "execution_count": null,
   "metadata": {},
   "outputs": [],
   "source": [
    "len(y)"
   ]
  },
  {
   "cell_type": "code",
   "execution_count": null,
   "metadata": {},
   "outputs": [],
   "source": [
    "model, X_test_tensor, y_test_tensor = model_workflow(X, X_test, y, y_test)"
   ]
  },
  {
   "cell_type": "code",
   "execution_count": null,
   "metadata": {},
   "outputs": [],
   "source": [
    "y_pred = predict(model, X_test_tensor)"
   ]
  },
  {
   "cell_type": "code",
   "execution_count": null,
   "metadata": {},
   "outputs": [],
   "source": [
    "evaluate_model(y_pred, y_test_tensor)"
   ]
  },
  {
   "cell_type": "code",
   "execution_count": null,
   "metadata": {},
   "outputs": [],
   "source": []
  }
 ],
 "metadata": {
  "kernelspec": {
   "display_name": "aml_detector",
   "language": "python",
   "name": "python3"
  },
  "language_info": {
   "codemirror_mode": {
    "name": "ipython",
    "version": 3
   },
   "file_extension": ".py",
   "mimetype": "text/x-python",
   "name": "python",
   "nbconvert_exporter": "python",
   "pygments_lexer": "ipython3",
   "version": "3.10.6"
  },
  "orig_nbformat": 4
 },
 "nbformat": 4,
 "nbformat_minor": 2
}
